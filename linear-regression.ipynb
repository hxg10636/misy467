{
 "cells": [
  {
   "cell_type": "markdown",
   "metadata": {},
   "source": [
    "# Linear Regression\n",
    "\n",
    "We use LaTex for most of the notations - I think writing the equations using LaTex actually help you understand the concepts. \n",
    "\n",
    "Please refer to LaTeX Math for Undergrads at http://joshua.smcvt.edu/undergradmath/ for some references. This notebook also gives you enough references to start. Some basic knowledge on linear algebra is required.\n",
    "\n",
    "\n",
    "I will also use the California housing price dataset at https://www.kaggle.com/harrywang/housing. Make sure to download it. Let's first explore the dataset a little bit."
   ]
  },
  {
   "cell_type": "code",
   "execution_count": 1,
   "metadata": {},
   "outputs": [
    {
     "name": "stdout",
     "output_type": "stream",
     "text": [
      "<class 'pandas.core.frame.DataFrame'>\n",
      "RangeIndex: 20640 entries, 0 to 20639\n",
      "Data columns (total 10 columns):\n",
      " #   Column              Non-Null Count  Dtype  \n",
      "---  ------              --------------  -----  \n",
      " 0   longitude           20640 non-null  float64\n",
      " 1   latitude            20640 non-null  float64\n",
      " 2   housing_median_age  20640 non-null  float64\n",
      " 3   total_rooms         20640 non-null  float64\n",
      " 4   total_bedrooms      20433 non-null  float64\n",
      " 5   population          20640 non-null  float64\n",
      " 6   households          20640 non-null  float64\n",
      " 7   median_income       20640 non-null  float64\n",
      " 8   median_house_value  20640 non-null  float64\n",
      " 9   ocean_proximity     20640 non-null  object \n",
      "dtypes: float64(9), object(1)\n",
      "memory usage: 1.6+ MB\n"
     ]
    }
   ],
   "source": [
    "import pandas as pd\n",
    "df = pd.read_csv(\"housing.csv\")\n",
    "df.info()"
   ]
  },
  {
   "cell_type": "code",
   "execution_count": 2,
   "metadata": {},
   "outputs": [
    {
     "data": {
      "text/html": [
       "<div>\n",
       "<style scoped>\n",
       "    .dataframe tbody tr th:only-of-type {\n",
       "        vertical-align: middle;\n",
       "    }\n",
       "\n",
       "    .dataframe tbody tr th {\n",
       "        vertical-align: top;\n",
       "    }\n",
       "\n",
       "    .dataframe thead th {\n",
       "        text-align: right;\n",
       "    }\n",
       "</style>\n",
       "<table border=\"1\" class=\"dataframe\">\n",
       "  <thead>\n",
       "    <tr style=\"text-align: right;\">\n",
       "      <th></th>\n",
       "      <th>longitude</th>\n",
       "      <th>latitude</th>\n",
       "      <th>housing_median_age</th>\n",
       "      <th>total_rooms</th>\n",
       "      <th>total_bedrooms</th>\n",
       "      <th>population</th>\n",
       "      <th>households</th>\n",
       "      <th>median_income</th>\n",
       "      <th>median_house_value</th>\n",
       "      <th>ocean_proximity</th>\n",
       "    </tr>\n",
       "  </thead>\n",
       "  <tbody>\n",
       "    <tr>\n",
       "      <th>0</th>\n",
       "      <td>-122.23</td>\n",
       "      <td>37.88</td>\n",
       "      <td>41.0</td>\n",
       "      <td>880.0</td>\n",
       "      <td>129.0</td>\n",
       "      <td>322.0</td>\n",
       "      <td>126.0</td>\n",
       "      <td>8.3252</td>\n",
       "      <td>452600.0</td>\n",
       "      <td>NEAR BAY</td>\n",
       "    </tr>\n",
       "    <tr>\n",
       "      <th>1</th>\n",
       "      <td>-122.22</td>\n",
       "      <td>37.86</td>\n",
       "      <td>21.0</td>\n",
       "      <td>7099.0</td>\n",
       "      <td>1106.0</td>\n",
       "      <td>2401.0</td>\n",
       "      <td>1138.0</td>\n",
       "      <td>8.3014</td>\n",
       "      <td>358500.0</td>\n",
       "      <td>NEAR BAY</td>\n",
       "    </tr>\n",
       "    <tr>\n",
       "      <th>2</th>\n",
       "      <td>-122.24</td>\n",
       "      <td>37.85</td>\n",
       "      <td>52.0</td>\n",
       "      <td>1467.0</td>\n",
       "      <td>190.0</td>\n",
       "      <td>496.0</td>\n",
       "      <td>177.0</td>\n",
       "      <td>7.2574</td>\n",
       "      <td>352100.0</td>\n",
       "      <td>NEAR BAY</td>\n",
       "    </tr>\n",
       "    <tr>\n",
       "      <th>3</th>\n",
       "      <td>-122.25</td>\n",
       "      <td>37.85</td>\n",
       "      <td>52.0</td>\n",
       "      <td>1274.0</td>\n",
       "      <td>235.0</td>\n",
       "      <td>558.0</td>\n",
       "      <td>219.0</td>\n",
       "      <td>5.6431</td>\n",
       "      <td>341300.0</td>\n",
       "      <td>NEAR BAY</td>\n",
       "    </tr>\n",
       "    <tr>\n",
       "      <th>4</th>\n",
       "      <td>-122.25</td>\n",
       "      <td>37.85</td>\n",
       "      <td>52.0</td>\n",
       "      <td>1627.0</td>\n",
       "      <td>280.0</td>\n",
       "      <td>565.0</td>\n",
       "      <td>259.0</td>\n",
       "      <td>3.8462</td>\n",
       "      <td>342200.0</td>\n",
       "      <td>NEAR BAY</td>\n",
       "    </tr>\n",
       "  </tbody>\n",
       "</table>\n",
       "</div>"
      ],
      "text/plain": [
       "   longitude  latitude  housing_median_age  total_rooms  total_bedrooms  \\\n",
       "0    -122.23     37.88                41.0        880.0           129.0   \n",
       "1    -122.22     37.86                21.0       7099.0          1106.0   \n",
       "2    -122.24     37.85                52.0       1467.0           190.0   \n",
       "3    -122.25     37.85                52.0       1274.0           235.0   \n",
       "4    -122.25     37.85                52.0       1627.0           280.0   \n",
       "\n",
       "   population  households  median_income  median_house_value ocean_proximity  \n",
       "0       322.0       126.0         8.3252            452600.0        NEAR BAY  \n",
       "1      2401.0      1138.0         8.3014            358500.0        NEAR BAY  \n",
       "2       496.0       177.0         7.2574            352100.0        NEAR BAY  \n",
       "3       558.0       219.0         5.6431            341300.0        NEAR BAY  \n",
       "4       565.0       259.0         3.8462            342200.0        NEAR BAY  "
      ]
     },
     "execution_count": 2,
     "metadata": {},
     "output_type": "execute_result"
    }
   ],
   "source": [
    "df.head()"
   ]
  },
  {
   "cell_type": "markdown",
   "metadata": {},
   "source": [
    "Each row represents the data about a block group in California, including longitude, latitude, population, median income, median housing age, and median house value. The target/label here is `median_house_value`, which is a continuous number. "
   ]
  },
  {
   "cell_type": "code",
   "execution_count": 3,
   "metadata": {},
   "outputs": [
    {
     "data": {
      "text/html": [
       "<div>\n",
       "<style scoped>\n",
       "    .dataframe tbody tr th:only-of-type {\n",
       "        vertical-align: middle;\n",
       "    }\n",
       "\n",
       "    .dataframe tbody tr th {\n",
       "        vertical-align: top;\n",
       "    }\n",
       "\n",
       "    .dataframe thead th {\n",
       "        text-align: right;\n",
       "    }\n",
       "</style>\n",
       "<table border=\"1\" class=\"dataframe\">\n",
       "  <thead>\n",
       "    <tr style=\"text-align: right;\">\n",
       "      <th></th>\n",
       "      <th>population</th>\n",
       "      <th>median_income</th>\n",
       "      <th>housing_median_age</th>\n",
       "    </tr>\n",
       "  </thead>\n",
       "  <tbody>\n",
       "    <tr>\n",
       "      <th>14196</th>\n",
       "      <td>2300.0</td>\n",
       "      <td>3.2596</td>\n",
       "      <td>33.0</td>\n",
       "    </tr>\n",
       "    <tr>\n",
       "      <th>8267</th>\n",
       "      <td>1314.0</td>\n",
       "      <td>3.8125</td>\n",
       "      <td>49.0</td>\n",
       "    </tr>\n",
       "    <tr>\n",
       "      <th>17445</th>\n",
       "      <td>915.0</td>\n",
       "      <td>4.1563</td>\n",
       "      <td>4.0</td>\n",
       "    </tr>\n",
       "    <tr>\n",
       "      <th>14265</th>\n",
       "      <td>1418.0</td>\n",
       "      <td>1.9425</td>\n",
       "      <td>36.0</td>\n",
       "    </tr>\n",
       "    <tr>\n",
       "      <th>2271</th>\n",
       "      <td>874.0</td>\n",
       "      <td>3.5542</td>\n",
       "      <td>43.0</td>\n",
       "    </tr>\n",
       "  </tbody>\n",
       "</table>\n",
       "</div>"
      ],
      "text/plain": [
       "       population  median_income  housing_median_age\n",
       "14196      2300.0         3.2596                33.0\n",
       "8267       1314.0         3.8125                49.0\n",
       "17445       915.0         4.1563                 4.0\n",
       "14265      1418.0         1.9425                36.0\n",
       "2271        874.0         3.5542                43.0"
      ]
     },
     "execution_count": 3,
     "metadata": {},
     "output_type": "execute_result"
    }
   ],
   "source": [
    "# let's only choose population, median_income, housing_median_age to train the model for simplicity\n",
    "# split train and test sets\n",
    "housing_X = df[['population', 'median_income','housing_median_age']]\n",
    "housing_y = df['median_house_value']\n",
    "\n",
    "from sklearn.model_selection import train_test_split\n",
    "\n",
    "housing_X_train, housing_X_test, housing_y_train, housing_y_test = train_test_split(housing_X, housing_y, test_size=0.2, random_state=42)\n",
    "\n",
    "housing_X_train.head()"
   ]
  },
  {
   "cell_type": "markdown",
   "metadata": {},
   "source": [
    "A linear regression model can be informally defined as follows:\n",
    "\n",
    "$Target = \\theta_0 + \\theta_1 Feature_1 + \\theta_2 Feature_2 + \\cdots + \\theta_n Feature_n$\n",
    "\n",
    "- Target is also called the dependent variable\n",
    "- Features are also called the independent variables\n",
    "- $\\theta_j$ is the j-th model parameter including the bias term (also called intercept term) $\\theta_0$ and the feature weights $\\theta_1, \\theta_2, \\ldots, \\theta_n$"
   ]
  },
  {
   "cell_type": "markdown",
   "metadata": {},
   "source": [
    "Assume we only use **population**, **median_income**, **housing_median_age** to train our model. Then, the linear regression model is simply:\n",
    "\n",
    "$\\text{median_house_value} = \\theta_0 + \\theta_1 * \\text{population} + \\theta_2 * \\text{median_income} + \\theta_3 * \\text{housing_median_age}$\n",
    "\n",
    "and our goal is to find the best values for $\\theta_0, \\theta_1, \\theta_2, \\ldots, \\theta_n$ via training. Then, we can make predictions, such as for the first line of data (first district) above we can predict y hat:\n",
    "\n",
    "$\\hat{y}^1 = \\theta_0 + \\theta_1 * x_1 + \\theta_2 * x_2 + \\theta_3 * x_3$, where $x_1, x_2, x_3$ are values of each feature for an instance:\n",
    "\n",
    "\n",
    "$\\hat{y}^1 = \\theta_0 + \\theta_1 * 2300 + \\theta_2 * 3.2596 + \\theta_3 * 33$\n",
    "\n",
    "say your model predicts the median house price for the first district to be $\\hat{y}^1 =105000$ and the actual price $y^1=103000$ (you can use `housing_y_train.iloc[0]` to check), then the prediction error is $\\hat{y}^1 - y^1 = 2000$.\n"
   ]
  },
  {
   "cell_type": "markdown",
   "metadata": {},
   "source": [
    "## Vector Notation"
   ]
  },
  {
   "cell_type": "markdown",
   "metadata": {},
   "source": [
    "Row vectors are represented as: $\\vec{a}=[1, 3, -5]$ and $\\vec{b}=[4, -2, -1]$"
   ]
  },
  {
   "cell_type": "markdown",
   "metadata": {},
   "source": [
    "Note that the arrow vector notation above is the default style in Latex (http://www.tapdancinggoats.com/latex-vector-notation.htm). The textbook (https://www.oreilly.com/library/view/hands-on-machine-learning/9781492032632/.uses) uses bold style for the vector notation, where vectors are in boldface as follows:\n",
    "\n",
    "<img width=\"251\" alt=\"Screen Shot 2020-04-12 at 3 52 28 PM\" src=\"https://user-images.githubusercontent.com/595772/79078345-bbde2e80-7cd5-11ea-864c-a75ef9e82954.png\">\n",
    "\n",
    "\n",
    "Although the boldface style is prettier but I am going to use the arrow notation, which I think is more obvious to distinguish between vectors and non-vector elements. You can use `$\\renewcommand{\\vec}[1]{\\mathbf{#1}}$` to easily change the vector style to boldface if you want. I may use the boldface style in the future."
   ]
  },
  {
   "cell_type": "code",
   "execution_count": 4,
   "metadata": {},
   "outputs": [
    {
     "name": "stdout",
     "output_type": "stream",
     "text": [
      "[ 1  3 -5] [ 4 -2 -1]\n"
     ]
    }
   ],
   "source": [
    "# row vectors are simply numpy arrays\n",
    "import numpy as np\n",
    "\n",
    "a = np.array([1, 3, -5])\n",
    "b = np.array([4, -2, -1])\n",
    "print(a, b)"
   ]
  },
  {
   "cell_type": "markdown",
   "metadata": {},
   "source": [
    "**Dot product**: https://en.wikipedia.org/wiki/Dot_product\n",
    "\n",
    "Example: given two row vectors $\\vec{a}=[ 1, 3, -5]$ and $\\vec{b}=[4, -2, -1]$ the dot product is:\n",
    "\n",
    "$\\vec{a} \\cdot \\vec{b} = [ 1, 3, -5] \\cdot [4, -2, -1] = (1*4) + (3*-2) + (-5*-1)= 4-6+5 = 3$"
   ]
  },
  {
   "cell_type": "code",
   "execution_count": 5,
   "metadata": {},
   "outputs": [
    {
     "data": {
      "text/plain": [
       "3"
      ]
     },
     "execution_count": 5,
     "metadata": {},
     "output_type": "execute_result"
    }
   ],
   "source": [
    "# the result is a scalar value\n",
    "np.dot(a, b)"
   ]
  },
  {
   "cell_type": "markdown",
   "metadata": {},
   "source": [
    "Now, we can rewrite the linear regression model \n",
    "\n",
    "$\\hat{y} = \\theta_0 + \\theta_1x_1 + \\theta_2x_2 + \\cdots + \\theta_nx_n$\n",
    "\n",
    "using the row vector notation:\n",
    "\n",
    "$\\hat{y} = h_\\vec{\\theta}(\\vec{x}) = \\vec{\\theta} \\cdot \\vec{x}$\n",
    "\n",
    "- $\\vec{\\theta} = [\\theta_0, \\theta_1, \\theta_2, \\cdots, \\theta_n]$ is the model's parameter row vector, including the bias term $\\theta_0$ and feature weights $\\theta_1$ to $\\theta_n$\n",
    "- $\\vec{x} = [x_0, x_1, x_2, \\cdots, x_n]$ is the instance's feature row vector, including $x_0$ to $x_n$ with $x_0$ always equal to 1\n",
    "- $\\vec{\\theta} \\cdot \\vec{x}$ is the dot product of the vectors $\\vec{\\theta}$ and $\\vec{x}$\n",
    "- $h_\\vec{\\theta}$ is called the hypothesis function using the model parameter vector $\\vec{\\theta}$"
   ]
  },
  {
   "cell_type": "markdown",
   "metadata": {},
   "source": [
    "### In machine learning, vectors are often represented as column vectors instead of row vectors.\n",
    "\n",
    "A column vector's transpose is a row vector and vice versa"
   ]
  },
  {
   "cell_type": "markdown",
   "metadata": {},
   "source": [
    "Using the transpose of $\\vec{b}$, which is $\\vec{b}^T$ (a column vector), the dot product can be re-written as a matrix multiplication:\n",
    "\n",
    "$\\vec{a} \\cdot \\vec{b} = \\vec{a} \\vec{b}^T$ = $ [ 1, 3, 15] \\begin{bmatrix} 4 \\\\ -2 \\\\ -1 \\end{bmatrix} = 3$\n"
   ]
  },
  {
   "cell_type": "code",
   "execution_count": 6,
   "metadata": {},
   "outputs": [
    {
     "name": "stdout",
     "output_type": "stream",
     "text": [
      "[ 1  3 -5]\n",
      "[ 4 -2 -1]\n",
      "(3,)\n",
      "(3,)\n",
      "[[ 1  3 -5]]\n",
      "[[ 4]\n",
      " [-2]\n",
      " [-1]]\n",
      "(1, 3)\n",
      "(3, 1)\n"
     ]
    }
   ],
   "source": [
    "# a column vector is a 2-D numpy array with one column in numpy\n",
    "\n",
    "a = np.array([1, 3, -5])\n",
    "b = np.array([4, -2, -1])\n",
    "print(a)\n",
    "print(b)\n",
    "print(a.shape)\n",
    "print(b.shape)\n",
    "\n",
    "\n",
    "# let c be b transpose\n",
    "# reshape a to be a 2-d array with one row\n",
    "# reshape/transpose b to be a column vector c\n",
    "a = a.reshape(1, 3)\n",
    "c = b.reshape(3, 1)\n",
    "print(a)\n",
    "print(c)\n",
    "print(a.shape)\n",
    "print(c.shape)"
   ]
  },
  {
   "cell_type": "code",
   "execution_count": 7,
   "metadata": {},
   "outputs": [
    {
     "data": {
      "text/plain": [
       "array([[3]])"
      ]
     },
     "execution_count": 7,
     "metadata": {},
     "output_type": "execute_result"
    }
   ],
   "source": [
    "# now the result is the same but is a single-cell matrix\n",
    "np.dot(a, c)"
   ]
  },
  {
   "cell_type": "markdown",
   "metadata": {},
   "source": [
    "So, using the column vector representations of $\\theta$ and $\\vec{x}$, we can re-write the linear regression equation above as following:\n",
    "\n",
    "$\\vec{\\theta} = \\begin{bmatrix} \\theta_0 \\\\ \\theta_1 \\\\ \\theta_2 \\\\ \\vdots \\\\ \\theta_n \\end{bmatrix}$\n",
    "\n",
    "$\\vec{x} = \\begin{bmatrix} x_0 \\\\ x_1 \\\\ x_2 \\\\ \\vdots \\\\ x_n \\end{bmatrix}$\n",
    "\n",
    "\n",
    "The equation above using dot product notation can be rewritten as matrix multiplication:\n",
    "\n",
    "$\\hat{y} = \\vec{\\theta} \\cdot \\vec{x}$ = $\\vec{\\theta}^\\top \\vec{x}$"
   ]
  },
  {
   "cell_type": "markdown",
   "metadata": {},
   "source": [
    "### Vector Notation Summary\n",
    "In summary, I am going to use the following notation in this class:\n",
    "\n",
    "$\\hat{y} = h_\\vec{\\theta}(\\vec{x}) = \\vec{\\theta}^\\top \\vec{x}$\n",
    "\n",
    "Now, let's look at an example."
   ]
  },
  {
   "cell_type": "code",
   "execution_count": 8,
   "metadata": {},
   "outputs": [
    {
     "data": {
      "text/html": [
       "<div>\n",
       "<style scoped>\n",
       "    .dataframe tbody tr th:only-of-type {\n",
       "        vertical-align: middle;\n",
       "    }\n",
       "\n",
       "    .dataframe tbody tr th {\n",
       "        vertical-align: top;\n",
       "    }\n",
       "\n",
       "    .dataframe thead th {\n",
       "        text-align: right;\n",
       "    }\n",
       "</style>\n",
       "<table border=\"1\" class=\"dataframe\">\n",
       "  <thead>\n",
       "    <tr style=\"text-align: right;\">\n",
       "      <th></th>\n",
       "      <th>population</th>\n",
       "      <th>median_income</th>\n",
       "      <th>housing_median_age</th>\n",
       "    </tr>\n",
       "  </thead>\n",
       "  <tbody>\n",
       "    <tr>\n",
       "      <th>14196</th>\n",
       "      <td>2300.0</td>\n",
       "      <td>3.2596</td>\n",
       "      <td>33.0</td>\n",
       "    </tr>\n",
       "    <tr>\n",
       "      <th>8267</th>\n",
       "      <td>1314.0</td>\n",
       "      <td>3.8125</td>\n",
       "      <td>49.0</td>\n",
       "    </tr>\n",
       "    <tr>\n",
       "      <th>17445</th>\n",
       "      <td>915.0</td>\n",
       "      <td>4.1563</td>\n",
       "      <td>4.0</td>\n",
       "    </tr>\n",
       "    <tr>\n",
       "      <th>14265</th>\n",
       "      <td>1418.0</td>\n",
       "      <td>1.9425</td>\n",
       "      <td>36.0</td>\n",
       "    </tr>\n",
       "    <tr>\n",
       "      <th>2271</th>\n",
       "      <td>874.0</td>\n",
       "      <td>3.5542</td>\n",
       "      <td>43.0</td>\n",
       "    </tr>\n",
       "  </tbody>\n",
       "</table>\n",
       "</div>"
      ],
      "text/plain": [
       "       population  median_income  housing_median_age\n",
       "14196      2300.0         3.2596                33.0\n",
       "8267       1314.0         3.8125                49.0\n",
       "17445       915.0         4.1563                 4.0\n",
       "14265      1418.0         1.9425                36.0\n",
       "2271        874.0         3.5542                43.0"
      ]
     },
     "execution_count": 8,
     "metadata": {},
     "output_type": "execute_result"
    }
   ],
   "source": [
    "housing_X_train.head()"
   ]
  },
  {
   "cell_type": "markdown",
   "metadata": {},
   "source": [
    "Remember $\\vec{\\theta}$ is the model parameter vector we try to get via training:\n",
    "\n",
    "$\\vec{\\theta} = \\begin{bmatrix} \\theta_0 \\\\ \\theta_1 \\\\ \\theta_2 \\\\ \\theta_3 \\end{bmatrix}$\n",
    "\n",
    "and $\\hat{y} = \\vec{\\theta}^\\top \\vec{x}$ only represents **one row** of data with the values of the instance. Take the first row of data as shown above. We then have (remember $x_0$ is always 1):\n",
    "\n",
    "$\\vec{x}^1 = \\begin{bmatrix} 1 \\\\ 2300 \\\\ 3.2596 \\\\ 33 \\end{bmatrix}$"
   ]
  },
  {
   "cell_type": "markdown",
   "metadata": {},
   "source": [
    "Now, we can re-write the following example \n",
    "\n",
    "$\\hat{y}^1 = \\theta_0 + \\theta_1 * 2300 + \\theta_2 * 3.2596 + \\theta_3 * 33$\n",
    "\n",
    "using the column vector notation:\n",
    "\n",
    "$\\hat{y}^1 = \\vec{\\theta}^\\top \\vec{x}^1 = [\\theta_0, \\theta_1, \\theta_2, \\theta_3] \\begin{bmatrix} 1 \\\\ 2300 \\\\ 3.2596 \\\\ 33 \\end{bmatrix}$\n",
    "\n",
    "Take the second testing row:\n",
    "\n",
    "$\\hat{y}^2 = \\vec{\\theta}^\\top \\vec{x}^2 = [\\theta_0, \\theta_1, \\theta_2, \\theta_3] \\begin{bmatrix} 1 \\\\ 1314 \\\\ 3.8125 \\\\ 49 \\end{bmatrix}$\n",
    "\n",
    "so on and so forth..."
   ]
  },
  {
   "cell_type": "markdown",
   "metadata": {},
   "source": [
    "## Evaluation Metric\n",
    "\n",
    "A linear regression model is to predict a continues value, such as the housing price. One of the most commonly used performance measure/metric of a regression model is the Root Mean Square Error (RMSE) and we want to minimize RMSE. NOTE: the RMSE is measured on the same scale with the same units as y."
   ]
  },
  {
   "cell_type": "code",
   "execution_count": 9,
   "metadata": {},
   "outputs": [
    {
     "name": "stdout",
     "output_type": "stream",
     "text": [
      "the total number of rows in the traing set is 16512\n"
     ]
    }
   ],
   "source": [
    "# number of rows in the training and testing sets\n",
    "print(f'the total number of rows in the traing set is {len(housing_X_train)}')"
   ]
  },
  {
   "cell_type": "markdown",
   "metadata": {},
   "source": [
    "So, let's define a few more things:\n",
    "\n",
    "- m: the number of instances in the training set, e.g., 16512 in the example above\n",
    "- $\\vec{X}$ is a matrix containing all the feature values, essentially X_train with the three selected features\n",
    "\n",
    "$\\vec{X} = \\begin{bmatrix} (\\vec{x}^1)^\\top \\\\ (\\vec{x}^2)^\\top \\\\ \\vdots \\\\ (\\vec{x}^m)^\\top \\end{bmatrix}$\n"
   ]
  },
  {
   "cell_type": "markdown",
   "metadata": {},
   "source": [
    "So, the Root Mean Square Error is defined as:\n",
    "\n",
    "$\\large RMSE(\\vec{X}, h_\\vec{\\theta}) = \\sqrt{\\frac{1}{m} \\sum_{i=1}^m (\\vec{\\theta}^\\top\\vec{x}^i - y^i)^2}$\n",
    "\n",
    "In practice, it is simpler to minimize MSE instead:\n",
    "\n",
    "$\\large MSE(\\vec{X}, h_\\vec{\\theta}) = MSE(\\vec{\\theta}) = \\frac{1}{m} \\sum_{i=1}^m (\\vec{\\theta}^\\top\\vec{x}^i - y^i)^2$\n"
   ]
  },
  {
   "cell_type": "markdown",
   "metadata": {},
   "source": [
    "## The Normal Equation\n",
    "There exists a \"closed-form\" solution to find the optimal values of $\\vec{\\theta}$ that minimize MSE, which is called the Normal Equation (if you are interested in the details on deriving the normal equation using matrix calculus, check out this article: https://ayearofai.com/rohan-3-deriving-the-normal-equation-using-matrix-calculus-1a1b16f65dda)"
   ]
  },
  {
   "cell_type": "markdown",
   "metadata": {},
   "source": [
    "Normal Equation is defined as:\n",
    "\n",
    "$\\hat{\\vec{\\theta}} = (\\vec{X}^\\top \\vec{X})^{-1} \\vec{X}^\\top \\vec{y}$\n",
    "\n",
    "- $\\hat{\\vec{\\theta}}$ is the value of $\\vec{\\theta}$ that minimizes the cost function, i.e., MSE\n",
    "- $\\vec{y}$ is the vector of target values containing $y^1, \\cdots, y^m$"
   ]
  },
  {
   "cell_type": "code",
   "execution_count": 10,
   "metadata": {},
   "outputs": [
    {
     "data": {
      "text/plain": [
       "[<matplotlib.lines.Line2D at 0x124508c50>]"
      ]
     },
     "execution_count": 10,
     "metadata": {},
     "output_type": "execute_result"
    },
    {
     "data": {
      "image/png": "[encoded data removed]",
      "text/plain": [
       "<Figure size 576x396 with 1 Axes>"
      ]
     },
     "metadata": {},
     "output_type": "display_data"
    }
   ],
   "source": [
    "# let's generate some linear looking data to test the equation\n",
    "# the ideal model apparently is y = 5 + 3x\n",
    "\n",
    "import numpy as np\n",
    "import matplotlib.pyplot as plt\n",
    "plt.style.use('seaborn')\n",
    "\n",
    "np.random.seed(42) # fix the random seed so that each run generates the same set of random numbers\n",
    "X = 2 * np.random.rand(100, 1)  # generate 100 random numbers between 0 and 2 with shape (100, 1)\n",
    "y = 5 + 3 * X + np.random.randn(100, 1)  # generate 100 random numbers from a normal distribution\n",
    "\n",
    "fig, ax = plt.subplots()\n",
    "ax.plot(X, y, \".\")\n",
    "ax.plot(X, 5+3*X)"
   ]
  },
  {
   "cell_type": "code",
   "execution_count": 11,
   "metadata": {},
   "outputs": [],
   "source": [
    "X_bias = np.c_[np.ones((100,)), X] # add bias term coefficient x0 = 1 for each instance"
   ]
  },
  {
   "cell_type": "code",
   "execution_count": 12,
   "metadata": {},
   "outputs": [
    {
     "data": {
      "text/plain": [
       "array([[0.74908024],\n",
       "       [1.90142861]])"
      ]
     },
     "execution_count": 12,
     "metadata": {},
     "output_type": "execute_result"
    }
   ],
   "source": [
    "X[:2]"
   ]
  },
  {
   "cell_type": "code",
   "execution_count": 13,
   "metadata": {},
   "outputs": [],
   "source": [
    "# we use np.linalg.inv() to calculate the inverse matrix and np.dot for matrix multiplication\n",
    "theta_best = np.linalg.inv(X_bias.T.dot(X_bias)).dot(X_bias.T).dot(y)"
   ]
  },
  {
   "cell_type": "code",
   "execution_count": 14,
   "metadata": {},
   "outputs": [
    {
     "data": {
      "text/plain": [
       "array([[5.21509616],\n",
       "       [2.77011339]])"
      ]
     },
     "execution_count": 14,
     "metadata": {},
     "output_type": "execute_result"
    }
   ],
   "source": [
    "theta_best"
   ]
  },
  {
   "cell_type": "markdown",
   "metadata": {},
   "source": [
    "We hope $\\theta_0 = 5$ and $\\theta_1 = 3$ with the random generations we won't get exact that. We got 5.215 and 2.770 instead. So our best model is:\n",
    "\n",
    "$y = 5.215 + 2.77 * x$"
   ]
  },
  {
   "cell_type": "code",
   "execution_count": 15,
   "metadata": {},
   "outputs": [
    {
     "data": {
      "text/plain": [
       "array([[6.87716419],\n",
       "       [7.70819821],\n",
       "       [8.81624356]])"
      ]
     },
     "execution_count": 15,
     "metadata": {},
     "output_type": "execute_result"
    }
   ],
   "source": [
    "# given a new sets of X_new, we can predict y_pred\n",
    "\n",
    "X_new = np.array([[0.6], [0.9], [1.3]])\n",
    "X_new_bias = np.c_[np.ones((3,1)), X_new] # add bias term coefficient x0 = 1 for each instance\n",
    "y_pred = X_new_bias.dot(theta_best)\n",
    "y_pred"
   ]
  },
  {
   "cell_type": "code",
   "execution_count": 16,
   "metadata": {},
   "outputs": [
    {
     "data": {
      "text/plain": [
       "[<matplotlib.lines.Line2D at 0x126cd7150>]"
      ]
     },
     "execution_count": 16,
     "metadata": {},
     "output_type": "execute_result"
    },
    {
     "data": {
      "image/png": "[encoded data removed]",
      "text/plain": [
       "<Figure size 576x396 with 1 Axes>"
      ]
     },
     "metadata": {},
     "output_type": "display_data"
    }
   ],
   "source": [
    "fig, ax = plt.subplots()\n",
    "ax.plot(X, y, \".\")\n",
    "# ax.plot(X, 5+3*X)\n",
    "ax.plot(X_new, y_pred)"
   ]
  },
  {
   "cell_type": "code",
   "execution_count": 17,
   "metadata": {},
   "outputs": [
    {
     "name": "stdout",
     "output_type": "stream",
     "text": [
      "[5.21509616] [[2.77011339]]\n"
     ]
    }
   ],
   "source": [
    "# Use sklearn to do linear regression\n",
    "from sklearn.linear_model import LinearRegression\n",
    "lin_reg = LinearRegression()\n",
    "lin_reg.fit(X, y) # use the normal equation to train the model\n",
    "print(lin_reg.intercept_, lin_reg.coef_) # exactly the same as our calculation above!"
   ]
  },
  {
   "cell_type": "code",
   "execution_count": 18,
   "metadata": {},
   "outputs": [
    {
     "data": {
      "text/plain": [
       "array([[6.87716419],\n",
       "       [7.70819821],\n",
       "       [8.81624356]])"
      ]
     },
     "execution_count": 18,
     "metadata": {},
     "output_type": "execute_result"
    }
   ],
   "source": [
    "lin_reg.predict(X_new)"
   ]
  },
  {
   "cell_type": "code",
   "execution_count": 19,
   "metadata": {},
   "outputs": [
    {
     "data": {
      "text/plain": [
       "LinearRegression(copy_X=True, fit_intercept=True, n_jobs=None, normalize=False)"
      ]
     },
     "execution_count": 19,
     "metadata": {},
     "output_type": "execute_result"
    }
   ],
   "source": [
    "# use the housing data to try\n",
    "\n",
    "housing_lin_reg = LinearRegression()\n",
    "housing_lin_reg.fit(housing_X_train, housing_y_train)"
   ]
  },
  {
   "cell_type": "code",
   "execution_count": 20,
   "metadata": {},
   "outputs": [
    {
     "name": "stdout",
     "output_type": "stream",
     "text": [
      "-17768.502521458897 [2.97530968e+00 4.33989999e+04 1.82807894e+03]\n"
     ]
    }
   ],
   "source": [
    "# the fitted model is\n",
    "# median_house_value = -17768 + 2.975 * population + 43399 * median_income + 1828 * housing_median_age\n",
    "print(housing_lin_reg.intercept_, housing_lin_reg.coef_)"
   ]
  },
  {
   "cell_type": "code",
   "execution_count": 21,
   "metadata": {},
   "outputs": [
    {
     "data": {
      "text/html": [
       "<div>\n",
       "<style scoped>\n",
       "    .dataframe tbody tr th:only-of-type {\n",
       "        vertical-align: middle;\n",
       "    }\n",
       "\n",
       "    .dataframe tbody tr th {\n",
       "        vertical-align: top;\n",
       "    }\n",
       "\n",
       "    .dataframe thead th {\n",
       "        text-align: right;\n",
       "    }\n",
       "</style>\n",
       "<table border=\"1\" class=\"dataframe\">\n",
       "  <thead>\n",
       "    <tr style=\"text-align: right;\">\n",
       "      <th></th>\n",
       "      <th>population</th>\n",
       "      <th>median_income</th>\n",
       "      <th>housing_median_age</th>\n",
       "    </tr>\n",
       "  </thead>\n",
       "  <tbody>\n",
       "    <tr>\n",
       "      <th>20046</th>\n",
       "      <td>1392.0</td>\n",
       "      <td>1.6812</td>\n",
       "      <td>25.0</td>\n",
       "    </tr>\n",
       "    <tr>\n",
       "      <th>3024</th>\n",
       "      <td>1565.0</td>\n",
       "      <td>2.5313</td>\n",
       "      <td>30.0</td>\n",
       "    </tr>\n",
       "    <tr>\n",
       "      <th>15663</th>\n",
       "      <td>1310.0</td>\n",
       "      <td>3.4801</td>\n",
       "      <td>52.0</td>\n",
       "    </tr>\n",
       "  </tbody>\n",
       "</table>\n",
       "</div>"
      ],
      "text/plain": [
       "       population  median_income  housing_median_age\n",
       "20046      1392.0         1.6812                25.0\n",
       "3024       1565.0         2.5313                30.0\n",
       "15663      1310.0         3.4801                52.0"
      ]
     },
     "execution_count": 21,
     "metadata": {},
     "output_type": "execute_result"
    }
   ],
   "source": [
    "housing_X_test[:3]"
   ]
  },
  {
   "cell_type": "code",
   "execution_count": 22,
   "metadata": {},
   "outputs": [
    {
     "data": {
      "text/plain": [
       "20046     47700.0\n",
       "3024      45800.0\n",
       "15663    500001.0\n",
       "Name: median_house_value, dtype: float64"
      ]
     },
     "execution_count": 22,
     "metadata": {},
     "output_type": "execute_result"
    }
   ],
   "source": [
    "housing_y_test[0:3]"
   ]
  },
  {
   "cell_type": "code",
   "execution_count": 23,
   "metadata": {},
   "outputs": [],
   "source": [
    "housing_y_pred = housing_lin_reg.predict(housing_X_test)"
   ]
  },
  {
   "cell_type": "code",
   "execution_count": 24,
   "metadata": {},
   "outputs": [
    {
     "data": {
      "text/plain": [
       "array([105037.50071243, 151586.11382306, 232222.11765249])"
      ]
     },
     "execution_count": 24,
     "metadata": {},
     "output_type": "execute_result"
    }
   ],
   "source": [
    "housing_y_pred[:3] # the predictions are awful as expected - we did not do any pre-processing"
   ]
  },
  {
   "cell_type": "code",
   "execution_count": 25,
   "metadata": {},
   "outputs": [
    {
     "data": {
      "text/plain": [
       "81323.63578829149"
      ]
     },
     "execution_count": 25,
     "metadata": {},
     "output_type": "execute_result"
    }
   ],
   "source": [
    "# calculate MSE and RMSE\n",
    "# NOTE: the RMSE is measured on the same scale with the same units as y.\n",
    "from sklearn.metrics import mean_squared_error\n",
    "lin_mse = mean_squared_error(housing_y_test, housing_y_pred) \n",
    "lin_rmse = np.sqrt(lin_mse)\n",
    "lin_rmse"
   ]
  },
  {
   "cell_type": "code",
   "execution_count": 26,
   "metadata": {},
   "outputs": [
    {
     "data": {
      "text/plain": [
       "count     20640.000000\n",
       "mean     206855.816909\n",
       "std      115395.615874\n",
       "min       14999.000000\n",
       "25%      119600.000000\n",
       "50%      179700.000000\n",
       "75%      264725.000000\n",
       "max      500001.000000\n",
       "Name: median_house_value, dtype: float64"
      ]
     },
     "execution_count": 26,
     "metadata": {},
     "output_type": "execute_result"
    }
   ],
   "source": [
    "housing_y.describe()"
   ]
  },
  {
   "cell_type": "code",
   "execution_count": 27,
   "metadata": {},
   "outputs": [
    {
     "data": {
      "text/plain": [
       "<matplotlib.axes._subplots.AxesSubplot at 0x129513610>"
      ]
     },
     "execution_count": 27,
     "metadata": {},
     "output_type": "execute_result"
    },
    {
     "data": {
      "image/png": "[encoded data removed]",
      "text/plain": [
       "<Figure size 576x396 with 1 Axes>"
      ]
     },
     "metadata": {},
     "output_type": "display_data"
    }
   ],
   "source": [
    "housing_y.plot.box()"
   ]
  },
  {
   "cell_type": "markdown",
   "metadata": {},
   "source": [
    "The most houses are between \\\\$120,000  and \\\\$270,000 and the prediction error is around \\\\$80,000 - not very good :)"
   ]
  },
  {
   "cell_type": "markdown",
   "metadata": {},
   "source": [
    "## A few notes\n",
    "\n",
    "- Do you still need Grid Search to tune linear regression model? why? ... No, we can calculate the optimal/best model using the Normal Equation.\n",
    "- do you still need to do Cross Validation for linear regression model? ... Most of the time, people don't do that given overfitting is often not an issue for a simple linear model. \n",
    "- you still need to build a pipeline to do necessary pre-processing\n"
   ]
  },
  {
   "cell_type": "markdown",
   "metadata": {},
   "source": [
    "## OLS Regression\n",
    "You can do linear regression using `statsmodels` package as follows, which gives you more information (such as R-squared and p-value) from a statistics perspective.\n",
    "\n",
    "Checkout more at: https://dss.princeton.edu/online_help/analysis/interpreting_regression.htm"
   ]
  },
  {
   "cell_type": "code",
   "execution_count": 28,
   "metadata": {},
   "outputs": [
    {
     "name": "stdout",
     "output_type": "stream",
     "text": [
      "-17768.502521458897 [2.97530968e+00 4.33989999e+04 1.82807894e+03]\n"
     ]
    }
   ],
   "source": [
    "# linear regression results using sklearn\n",
    "print(housing_lin_reg.intercept_, housing_lin_reg.coef_)"
   ]
  },
  {
   "cell_type": "code",
   "execution_count": 29,
   "metadata": {},
   "outputs": [
    {
     "name": "stdout",
     "output_type": "stream",
     "text": [
      "                            OLS Regression Results                            \n",
      "==============================================================================\n",
      "Dep. Variable:     median_house_value   R-squared:                       0.514\n",
      "Model:                            OLS   Adj. R-squared:                  0.513\n",
      "Method:                 Least Squares   F-statistic:                     5809.\n",
      "Date:                Tue, 14 Apr 2020   Prob (F-statistic):               0.00\n",
      "Time:                        19:23:33   Log-Likelihood:            -2.0998e+05\n",
      "No. Observations:               16512   AIC:                         4.200e+05\n",
      "Df Residuals:                   16508   BIC:                         4.200e+05\n",
      "Df Model:                           3                                         \n",
      "Covariance Type:            nonrobust                                         \n",
      "======================================================================================\n",
      "                         coef    std err          t      P>|t|      [0.025      0.975]\n",
      "--------------------------------------------------------------------------------------\n",
      "const              -1.777e+04   2505.219     -7.093      0.000   -2.27e+04   -1.29e+04\n",
      "population             2.9753      0.578      5.152      0.000       1.843       4.107\n",
      "median_income        4.34e+04    332.242    130.624      0.000    4.27e+04    4.41e+04\n",
      "housing_median_age  1828.0789     52.495     34.824      0.000    1725.183    1930.975\n",
      "==============================================================================\n",
      "Omnibus:                     3311.104   Durbin-Watson:                   1.971\n",
      "Prob(Omnibus):                  0.000   Jarque-Bera (JB):             8022.107\n",
      "Skew:                           1.118   Prob(JB):                         0.00\n",
      "Kurtosis:                       5.580   Cond. No.                     7.31e+03\n",
      "==============================================================================\n",
      "\n",
      "Warnings:\n",
      "[1] Standard Errors assume that the covariance matrix of the errors is correctly specified.\n",
      "[2] The condition number is large, 7.31e+03. This might indicate that there are\n",
      "strong multicollinearity or other numerical problems.\n"
     ]
    }
   ],
   "source": [
    "# if you want to see the p-value, etc. use the following code\n",
    "# you need to install statsmodels>=0.11.1 in the requirements.txt\n",
    "\n",
    "# https://www.statsmodels.org/stable/endog_exog.html\n",
    "# endogenous (endog): caused by factors within the system, which is target/label/dependent variable (DV)\n",
    "# exogenous (exog): caused by factors outside the system, which is feature/independent variable (IV)\n",
    "\n",
    "import statsmodels.api as sm\n",
    "dv = housing_y_train\n",
    "iv = sm.add_constant(housing_X_train)\n",
    "ols_reg = sm.OLS(dv, iv)\n",
    "res = ols_reg.fit()\n",
    "print(res.summary())\n",
    "\n",
    "# exactly same results as sklearn"
   ]
  },
  {
   "cell_type": "markdown",
   "metadata": {},
   "source": [
    "### OLS Result Interpretation\n",
    "- **p-values** for all three features/IVs above are all 0, which means that all three features are correlated with the target/DV - in other words, they all affect the median housing price. For example, 1828 is the coefficient for housing_median_age, which means housing_median_age increases by 1, the median housing price increase \\\\$1828 holding other two features constant.\n",
    "- **[0.025      0.975]** is the 95% confidence interval for your coefficients, which means that you can be 95% confident (pretty sure) that the real value of the coefficient falls somewhere range, e.g., the estimated co-efficient for population is 2.975, and we are 95% sure that the real value for the co-efficient falls between [1.843       4.107]\n",
    "- **R-squared** is 0.514. The definition of R-squared is as follows ($m$ is number of predictions):\n",
    "\n",
    "\n",
    "$\\large R^2 = 1 - \\frac{\\sum_{i=1}^m(y-\\hat{y})^2}{\\sum_{i=1}^m(y-\\bar{y})^2}$\n",
    "\n",
    "where $y$ is the ground truth value of the target, $\\hat{y}$ is the predicted value and $\\bar{y}$ is the mean of $y$\n",
    "\n",
    "If our prediction model is perfect, then $\\hat{y} = y$ and $R^2 = 1$. If we apply a \"naive\" prediction to use the mean for all predictions, then $\\hat{y} = \\bar{y}$ and $R^2 = 0$. So, in terms of prediction accuracy, the higher the $R^2$ the better."
   ]
  },
  {
   "cell_type": "markdown",
   "metadata": {},
   "source": [
    "# Polynomial Regression\n",
    "\n",
    "Polynomial Regression can fit non-linear data to a linear model by adding powers of each feature as new features and then train a linear model on the extended set of features."
   ]
  },
  {
   "cell_type": "code",
   "execution_count": 30,
   "metadata": {},
   "outputs": [
    {
     "data": {
      "text/plain": [
       "[<matplotlib.lines.Line2D at 0x12a833b90>]"
      ]
     },
     "execution_count": 30,
     "metadata": {},
     "output_type": "execute_result"
    },
    {
     "data": {
      "image/png": "[encoded data removed]",
      "text/plain": [
       "<Figure size 576x396 with 1 Axes>"
      ]
     },
     "metadata": {},
     "output_type": "display_data"
    }
   ],
   "source": [
    "# generate some non-linear data\n",
    "np.random.seed(42)\n",
    "m = 100\n",
    "X = 6 * np.random.rand(m, 1) - 3\n",
    "y = 1 + 2* X + 3 * X**2 + np.random.randn(m, 1)  # the \"real\" function is y = 1 + 2*x + 3*x^2\n",
    "\n",
    "fig, ax = plt.subplots()\n",
    "ax.plot(X, y, \".\")"
   ]
  },
  {
   "cell_type": "code",
   "execution_count": 31,
   "metadata": {},
   "outputs": [
    {
     "name": "stdout",
     "output_type": "stream",
     "text": [
      "[[ 2  7]\n",
      " [ 3 11]\n",
      " [ 5 13]]\n",
      "[[  2.   7.   4.  14.  49.]\n",
      " [  3.  11.   9.  33. 121.]\n",
      " [  5.  13.  25.  65. 169.]]\n",
      "[[2.000e+00 7.000e+00 4.000e+00 1.400e+01 4.900e+01 8.000e+00 2.800e+01\n",
      "  9.800e+01 3.430e+02]\n",
      " [3.000e+00 1.100e+01 9.000e+00 3.300e+01 1.210e+02 2.700e+01 9.900e+01\n",
      "  3.630e+02 1.331e+03]\n",
      " [5.000e+00 1.300e+01 2.500e+01 6.500e+01 1.690e+02 1.250e+02 3.250e+02\n",
      "  8.450e+02 2.197e+03]]\n"
     ]
    }
   ],
   "source": [
    "from sklearn.preprocessing import PolynomialFeatures\n",
    "# a is a column vector representing two features x1, x2\n",
    "a = np.array([[2, 3, 5], [7, 11, 13] ]).T \n",
    "print(a)\n",
    "\n",
    "# degree=2 added x1*x2, x1^2, x2^2\n",
    "poly_features_2 = PolynomialFeatures(degree=2, include_bias=False)\n",
    "b = poly_features_2.fit_transform(a)\n",
    "print(b)\n",
    "# degree=3 added x1*x2, x1^2, x2^2, x1^2*2, x2^2*x1, x1^3, x2^3\n",
    "poly_features_3 = PolynomialFeatures(degree=3, include_bias=False)\n",
    "c = poly_features_3.fit_transform(a)\n",
    "print(c)"
   ]
  },
  {
   "cell_type": "code",
   "execution_count": 32,
   "metadata": {},
   "outputs": [
    {
     "name": "stdout",
     "output_type": "stream",
     "text": [
      "[[-0.75275929  0.56664654]\n",
      " [ 2.70428584  7.3131619 ]\n",
      " [ 1.39196365  1.93756281]]\n"
     ]
    }
   ],
   "source": [
    "# add polynomial features for X in the plot\n",
    "X_poly = poly_features_2.fit_transform(X)\n",
    "print(X_poly[:3])  # X, X^2"
   ]
  },
  {
   "cell_type": "code",
   "execution_count": 33,
   "metadata": {},
   "outputs": [
    {
     "name": "stdout",
     "output_type": "stream",
     "text": [
      "[0.78134581] [[1.93366893 3.06456263]]\n"
     ]
    }
   ],
   "source": [
    "lin_reg = LinearRegression()\n",
    "lin_reg.fit(X_poly, y)\n",
    "print(lin_reg.intercept_, lin_reg.coef_)"
   ]
  },
  {
   "cell_type": "code",
   "execution_count": 34,
   "metadata": {},
   "outputs": [
    {
     "data": {
      "text/plain": [
       "[<matplotlib.lines.Line2D at 0x12abdb4d0>]"
      ]
     },
     "execution_count": 34,
     "metadata": {},
     "output_type": "execute_result"
    },
    {
     "data": {
      "image/png": "[encoded data removed]",
      "text/plain": [
       "<Figure size 576x396 with 1 Axes>"
      ]
     },
     "metadata": {},
     "output_type": "display_data"
    }
   ],
   "source": [
    " # the \"real\" function is y = 1 + 2*x + 3*x^2\n",
    "# the fitted model: y = 0.781 + 1.934*X + 3.065*X^2 - pretty close\n",
    "fig, ax = plt.subplots()\n",
    "ax.plot(X, y, \".\")\n",
    "ax.plot(X, 0.781 + 1.934*X + 3.065*X**2, \"r.\")"
   ]
  },
  {
   "cell_type": "markdown",
   "metadata": {},
   "source": [
    "## LaTex Reference\n",
    "LATEX Math for Undergrads: http://joshua.smcvt.edu/undergradmath/ "
   ]
  },
  {
   "cell_type": "markdown",
   "metadata": {},
   "source": [
    "![undergradmath_0](https://user-images.githubusercontent.com/595772/79053791-e5cc1e00-7c0d-11ea-8b10-48e9e3d5288e.png)\n",
    "![undergradmath_1](https://user-images.githubusercontent.com/595772/79053793-e9f83b80-7c0d-11ea-8d91-d8bb9254981a.png)"
   ]
  }
 ],
 "metadata": {
  "kernelspec": {
   "display_name": "Python 3",
   "language": "python",
   "name": "python3"
  },
  "language_info": {
   "codemirror_mode": {
    "name": "ipython",
    "version": 3
   },
   "file_extension": ".py",
   "mimetype": "text/x-python",
   "name": "python",
   "nbconvert_exporter": "python",
   "pygments_lexer": "ipython3",
   "version": "3.8.2"
  }
 },
 "nbformat": 4,
 "nbformat_minor": 4
}
