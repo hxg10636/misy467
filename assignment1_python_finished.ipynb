{
 "cells": [
  {
   "cell_type": "markdown",
   "metadata": {},
   "source": [
    "# Python 3.6+\n",
    "We assume you are using Python 3.6+ in this course"
   ]
  },
  {
   "cell_type": "markdown",
   "metadata": {},
   "source": [
    "# Question 1\n",
    "\n",
    "Review list comprehension if needed: https://realpython.com/list-comprehension-python/\n",
    "\n",
    "The formula for list comprehension is: `new_list = [expression for member in iterable (if conditional)]`\n",
    "\n",
    "You need to do the following:\n",
    "1. use a loop to create a list of 5 cube numbers and print the list：[0, 1, 8, 27, 64]\n",
    "2. use list comprehension to create the same list\n",
    "3. find the postions of all vowels in a sentence using list comprehension"
   ]
  },
  {
   "cell_type": "code",
   "execution_count": 13,
   "metadata": {},
   "outputs": [
    {
     "data": {
      "text/plain": [
       "[0, 1, 8, 27, 64]"
      ]
     },
     "execution_count": 13,
     "metadata": {},
     "output_type": "execute_result"
    }
   ],
   "source": [
    "# use a loop to create a list\n",
    "cubes = []\n",
    "for i in range(5):\n",
    "    cubes.append(i**3)\n",
    "cubes"
   ]
  },
  {
   "cell_type": "code",
   "execution_count": 14,
   "metadata": {},
   "outputs": [
    {
     "data": {
      "text/plain": [
       "[0, 1, 8, 27, 64]"
      ]
     },
     "execution_count": 14,
     "metadata": {},
     "output_type": "execute_result"
    }
   ],
   "source": [
    "# use list comprehension to create the same list\n",
    "new_list = [i ** 3 for i in range(5)]\n",
    "new_list"
   ]
  },
  {
   "cell_type": "code",
   "execution_count": 18,
   "metadata": {},
   "outputs": [
    {
     "data": {
      "text/plain": [
       "[1, 5, 10, 11, 17, 21, 25, 28, 30, 35, 37, 41, 44]"
      ]
     },
     "execution_count": 18,
     "metadata": {},
     "output_type": "execute_result"
    }
   ],
   "source": [
    "# find the positions of all vowels in the following sentence using list comprehension\n",
    "sentence = \"Talk is cheap. Show me the code - Linus Torvalds\"\n",
    "positions = [i for i, char in enumerate(sentence) if char in (\"aeiouAEIOU\")]\n",
    "positions"
   ]
  },
  {
   "cell_type": "markdown",
   "metadata": {},
   "source": [
    "# Question 2\n",
    "You need to use to format strings\n",
    "\n",
    "Write a program using the \"f-strings\" (https://realpython.com/python-f-strings/), conditional statements, user input function to convert temperatures to and from Celsius, Fahrenheit. [Formula: Celsius/5 = (Fahrenheit – 32)/9]\n",
    "\n",
    "Hint: you may need int() function\n",
    "\n",
    "An example program output:\n",
    "```\n",
    "Please enter the temperature: 60\n",
    "Is this Celsius or Fahrenheit? C\n",
    "60C is 140 in Fahrenheit\n",
    "```\n",
    "\n",
    "Another example:\n",
    "```\n",
    "Please enter the temperature: 45\n",
    "Is this Celsius or Fahrenheit? F\n",
    "45F is 7 in Celsius\n",
    "```"
   ]
  },
  {
   "cell_type": "code",
   "execution_count": null,
   "metadata": {},
   "outputs": [],
   "source": [
    "# an example of f-strings and user input function\n",
    "username = input('What\\'s your name?')\n",
    "print(f'Welcome! {username}')"
   ]
  },
  {
   "cell_type": "code",
   "execution_count": null,
   "metadata": {},
   "outputs": [],
   "source": [
    "# complete your program here"
   ]
  },
  {
   "cell_type": "code",
   "execution_count": 6,
   "metadata": {},
   "outputs": [
    {
     "name": "stdout",
     "output_type": "stream",
     "text": [
      "Please enter the temperature:45\n",
      "Is this Celsius or Fahreheit?f\n",
      "45F is 7 in Celsius. \n"
     ]
    }
   ],
   "source": [
    "tem = input(\"Please enter the temperature:\")\n",
    "degree = int(tem)\n",
    "unit = input('Is this Celsius or Fahreheit?')\n",
    "if unit.upper() == 'C':\n",
    "    result = int(round(int(round((9 * degree) / 5 + 32))))\n",
    "    print('%sC is %s in Fahreheit. ' %(degree, result))\n",
    "elif unit.upper() == 'F':\n",
    "    result = int(round((degree - 32) * 5 / 9))\n",
    "    print('%sF is %s in Celsius. ' %(degree, result))\n",
    "else:\n",
    "    result=print('Please enter correct unit.')\n",
    "    result"
   ]
  },
  {
   "cell_type": "code",
   "execution_count": null,
   "metadata": {},
   "outputs": [],
   "source": []
  }
 ],
 "metadata": {
  "kernelspec": {
   "display_name": "Python 3",
   "language": "python",
   "name": "python3"
  },
  "language_info": {
   "codemirror_mode": {
    "name": "ipython",
    "version": 3
   },
   "file_extension": ".py",
   "mimetype": "text/x-python",
   "name": "python",
   "nbconvert_exporter": "python",
   "pygments_lexer": "ipython3",
   "version": "3.7.2"
  }
 },
 "nbformat": 4,
 "nbformat_minor": 4
}
