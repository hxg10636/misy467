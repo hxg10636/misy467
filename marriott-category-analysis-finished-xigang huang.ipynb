{
 "cells": [
  {
   "cell_type": "markdown",
   "metadata": {},
   "source": [
    "# Marriott Hotel Category Change 2020 Analysis"
   ]
  },
  {
   "cell_type": "code",
   "execution_count": 1,
   "metadata": {},
   "outputs": [],
   "source": [
    "# import pandas\n",
    "import pandas as pd"
   ]
  },
  {
   "cell_type": "code",
   "execution_count": 2,
   "metadata": {},
   "outputs": [
    {
     "data": {
      "text/html": [
       "<div>\n",
       "<style scoped>\n",
       "    .dataframe tbody tr th:only-of-type {\n",
       "        vertical-align: middle;\n",
       "    }\n",
       "\n",
       "    .dataframe tbody tr th {\n",
       "        vertical-align: top;\n",
       "    }\n",
       "\n",
       "    .dataframe thead th {\n",
       "        text-align: right;\n",
       "    }\n",
       "</style>\n",
       "<table border=\"1\" class=\"dataframe\">\n",
       "  <thead>\n",
       "    <tr style=\"text-align: right;\">\n",
       "      <th></th>\n",
       "      <th>Hotel</th>\n",
       "      <th>Brand</th>\n",
       "      <th>Destination</th>\n",
       "      <th>Current Category</th>\n",
       "      <th>Current Standard Price</th>\n",
       "      <th>New Category</th>\n",
       "      <th>New Standard Price</th>\n",
       "    </tr>\n",
       "  </thead>\n",
       "  <tbody>\n",
       "    <tr>\n",
       "      <th>0</th>\n",
       "      <td>Aberdeen Marriott Hotel</td>\n",
       "      <td>Marriott</td>\n",
       "      <td>United Kingdom</td>\n",
       "      <td>3</td>\n",
       "      <td>17500</td>\n",
       "      <td>2</td>\n",
       "      <td>12500</td>\n",
       "    </tr>\n",
       "    <tr>\n",
       "      <th>1</th>\n",
       "      <td>AC Hotel Aitana</td>\n",
       "      <td>AC Hotels by Marriott</td>\n",
       "      <td>Spain</td>\n",
       "      <td>3</td>\n",
       "      <td>17500</td>\n",
       "      <td>4</td>\n",
       "      <td>25000</td>\n",
       "    </tr>\n",
       "    <tr>\n",
       "      <th>2</th>\n",
       "      <td>AC Hotel Alcala de Henares</td>\n",
       "      <td>AC Hotels by Marriott</td>\n",
       "      <td>Spain</td>\n",
       "      <td>1</td>\n",
       "      <td>7500</td>\n",
       "      <td>2</td>\n",
       "      <td>12500</td>\n",
       "    </tr>\n",
       "    <tr>\n",
       "      <th>3</th>\n",
       "      <td>AC Hotel Almeria</td>\n",
       "      <td>AC Hotels by Marriott</td>\n",
       "      <td>Spain</td>\n",
       "      <td>1</td>\n",
       "      <td>7500</td>\n",
       "      <td>2</td>\n",
       "      <td>12500</td>\n",
       "    </tr>\n",
       "    <tr>\n",
       "      <th>4</th>\n",
       "      <td>AC Hotel Aravaca</td>\n",
       "      <td>AC Hotels by Marriott</td>\n",
       "      <td>Spain</td>\n",
       "      <td>1</td>\n",
       "      <td>7500</td>\n",
       "      <td>2</td>\n",
       "      <td>12500</td>\n",
       "    </tr>\n",
       "  </tbody>\n",
       "</table>\n",
       "</div>"
      ],
      "text/plain": [
       "                        Hotel                  Brand     Destination  \\\n",
       "0     Aberdeen Marriott Hotel               Marriott  United Kingdom   \n",
       "1             AC Hotel Aitana  AC Hotels by Marriott           Spain   \n",
       "2  AC Hotel Alcala de Henares  AC Hotels by Marriott           Spain   \n",
       "3            AC Hotel Almeria  AC Hotels by Marriott           Spain   \n",
       "4            AC Hotel Aravaca  AC Hotels by Marriott           Spain   \n",
       "\n",
       "   Current Category  Current Standard Price  New Category  New Standard Price  \n",
       "0                 3                   17500             2               12500  \n",
       "1                 3                   17500             4               25000  \n",
       "2                 1                    7500             2               12500  \n",
       "3                 1                    7500             2               12500  \n",
       "4                 1                    7500             2               12500  "
      ]
     },
     "execution_count": 2,
     "metadata": {},
     "output_type": "execute_result"
    }
   ],
   "source": [
    "# read data from csv\n",
    "df = pd.read_csv('marriott-category-changes-2020.csv')\n",
    "df.head()"
   ]
  },
  {
   "cell_type": "markdown",
   "metadata": {},
   "source": [
    "## Question 1\n",
    "Discribe the data types for each feature/column, e.g., xxx feature's data type is String, yyy feature's data type is float, etc."
   ]
  },
  {
   "cell_type": "code",
   "execution_count": 3,
   "metadata": {},
   "outputs": [
    {
     "name": "stdout",
     "output_type": "stream",
     "text": [
      "Hotel data type is object\n",
      "Brand data type is object\n",
      "Destination data type is object\n",
      "Current Category data type is int64\n",
      "Current Standard Price data type is int64\n",
      "New Category data type is int64\n",
      "New Standard Price data type is int64\n"
     ]
    }
   ],
   "source": [
    "# prints out data types for each columns.\n",
    "for colname, coltype in df.dtypes.iteritems():\n",
    "    print(colname,'data type is',coltype)"
   ]
  },
  {
   "cell_type": "markdown",
   "metadata": {},
   "source": [
    "My answer to the question 1:\n",
    "* Hotel data type is object\n",
    "* Brand data type is object\n",
    "* Destination data type is object\n",
    "* Current Category data type is int64\n",
    "* Current Standard Price data type is int64\n",
    "* New Category data type is int64\n",
    "* New Standard Price data type is int64"
   ]
  },
  {
   "cell_type": "markdown",
   "metadata": {},
   "source": [
    "## Question 2\n",
    "- How many hotels are in this dataset?\n",
    "- The hotels are from how many unique brands?\n",
    "- Which destination/country has the most hotels listed in this dataset? List the total number of hotels in that country\n",
    "- How many brands in China have hotel category changes?"
   ]
  },
  {
   "cell_type": "code",
   "execution_count": 4,
   "metadata": {},
   "outputs": [
    {
     "data": {
      "text/plain": [
       "(2185, 7)"
      ]
     },
     "execution_count": 4,
     "metadata": {},
     "output_type": "execute_result"
    }
   ],
   "source": [
    "# getting data shape, listing total number of rows and columns.\n",
    "df.shape"
   ]
  },
  {
   "cell_type": "code",
   "execution_count": 5,
   "metadata": {},
   "outputs": [
    {
     "name": "stdout",
     "output_type": "stream",
     "text": [
      "Courtyard                      366\n",
      "Fairfield Inn                  338\n",
      "Residence Inn                  273\n",
      "Sheraton                       154\n",
      "Marriott                       148\n",
      "TownePlace Suites              131\n",
      "SpringHill Suites              130\n",
      "Four Points                     93\n",
      "Autograph Collection            69\n",
      "Westin                          67\n",
      "AC Hotels by Marriott           54\n",
      "Aloft                           52\n",
      "Renaissance                     45\n",
      "Le Meridien                     34\n",
      "Luxury Collection               33\n",
      "Protea Hotels                   30\n",
      "Ritz-Carlton                    29\n",
      "JW Marriott                     23\n",
      "Element                         22\n",
      "Delta                           22\n",
      "Moxy Hotels                     21\n",
      "W Hotels                        16\n",
      "Tribute Portfolio               13\n",
      "St. Regis                        9\n",
      "VISTA                            3\n",
      "Marriott Vacation Club Intl      3\n",
      "Edition                          3\n",
      "Design Hotels                    2\n",
      "Gaylord Hotels                   1\n",
      "Conference Centers               1\n",
      "Name: Brand, dtype: int64\n",
      "The hotels are from 30 unique brands.\n"
     ]
    }
   ],
   "source": [
    "# list all unique values in brand columns\n",
    "print(df['Brand'].value_counts())\n",
    "\n",
    "# prints out total number of brands.\n",
    "print('The hotels are from',df['Brand'].nunique(),'unique brands.')"
   ]
  },
  {
   "cell_type": "code",
   "execution_count": 6,
   "metadata": {},
   "outputs": [
    {
     "data": {
      "text/html": [
       "<div>\n",
       "<style scoped>\n",
       "    .dataframe tbody tr th:only-of-type {\n",
       "        vertical-align: middle;\n",
       "    }\n",
       "\n",
       "    .dataframe tbody tr th {\n",
       "        vertical-align: top;\n",
       "    }\n",
       "\n",
       "    .dataframe thead th {\n",
       "        text-align: right;\n",
       "    }\n",
       "</style>\n",
       "<table border=\"1\" class=\"dataframe\">\n",
       "  <thead>\n",
       "    <tr style=\"text-align: right;\">\n",
       "      <th></th>\n",
       "      <th>Destination</th>\n",
       "      <th>count</th>\n",
       "    </tr>\n",
       "  </thead>\n",
       "  <tbody>\n",
       "    <tr>\n",
       "      <th>0</th>\n",
       "      <td>USA</td>\n",
       "      <td>1545</td>\n",
       "    </tr>\n",
       "    <tr>\n",
       "      <th>1</th>\n",
       "      <td>Canada</td>\n",
       "      <td>76</td>\n",
       "    </tr>\n",
       "    <tr>\n",
       "      <th>2</th>\n",
       "      <td>China</td>\n",
       "      <td>68</td>\n",
       "    </tr>\n",
       "    <tr>\n",
       "      <th>3</th>\n",
       "      <td>Spain</td>\n",
       "      <td>34</td>\n",
       "    </tr>\n",
       "    <tr>\n",
       "      <th>4</th>\n",
       "      <td>Mexico</td>\n",
       "      <td>26</td>\n",
       "    </tr>\n",
       "    <tr>\n",
       "      <th>...</th>\n",
       "      <td>...</td>\n",
       "      <td>...</td>\n",
       "    </tr>\n",
       "    <tr>\n",
       "      <th>93</th>\n",
       "      <td>Denmark</td>\n",
       "      <td>1</td>\n",
       "    </tr>\n",
       "    <tr>\n",
       "      <th>94</th>\n",
       "      <td>New Zealand</td>\n",
       "      <td>1</td>\n",
       "    </tr>\n",
       "    <tr>\n",
       "      <th>95</th>\n",
       "      <td>Curacao</td>\n",
       "      <td>1</td>\n",
       "    </tr>\n",
       "    <tr>\n",
       "      <th>96</th>\n",
       "      <td>Israel</td>\n",
       "      <td>1</td>\n",
       "    </tr>\n",
       "    <tr>\n",
       "      <th>97</th>\n",
       "      <td>Norway</td>\n",
       "      <td>1</td>\n",
       "    </tr>\n",
       "  </tbody>\n",
       "</table>\n",
       "<p>98 rows × 2 columns</p>\n",
       "</div>"
      ],
      "text/plain": [
       "    Destination  count\n",
       "0           USA   1545\n",
       "1        Canada     76\n",
       "2         China     68\n",
       "3         Spain     34\n",
       "4        Mexico     26\n",
       "..          ...    ...\n",
       "93      Denmark      1\n",
       "94  New Zealand      1\n",
       "95      Curacao      1\n",
       "96       Israel      1\n",
       "97       Norway      1\n",
       "\n",
       "[98 rows x 2 columns]"
      ]
     },
     "execution_count": 6,
     "metadata": {},
     "output_type": "execute_result"
    }
   ],
   "source": [
    "# list the total numbers of hotel bt their destination. showing top 5 destinations.\n",
    "df2 = df.groupby('Destination')['Hotel'].nunique().sort_values(ascending=False).reset_index(name='count')\n",
    "df2"
   ]
  },
  {
   "cell_type": "code",
   "execution_count": 7,
   "metadata": {},
   "outputs": [
    {
     "data": {
      "text/html": [
       "<div>\n",
       "<style scoped>\n",
       "    .dataframe tbody tr th:only-of-type {\n",
       "        vertical-align: middle;\n",
       "    }\n",
       "\n",
       "    .dataframe tbody tr th {\n",
       "        vertical-align: top;\n",
       "    }\n",
       "\n",
       "    .dataframe thead th {\n",
       "        text-align: right;\n",
       "    }\n",
       "</style>\n",
       "<table border=\"1\" class=\"dataframe\">\n",
       "  <thead>\n",
       "    <tr style=\"text-align: right;\">\n",
       "      <th></th>\n",
       "      <th>Destination</th>\n",
       "      <th>count</th>\n",
       "    </tr>\n",
       "  </thead>\n",
       "  <tbody>\n",
       "    <tr>\n",
       "      <th>2</th>\n",
       "      <td>China</td>\n",
       "      <td>68</td>\n",
       "    </tr>\n",
       "  </tbody>\n",
       "</table>\n",
       "</div>"
      ],
      "text/plain": [
       "  Destination  count\n",
       "2       China     68"
      ]
     },
     "execution_count": 7,
     "metadata": {},
     "output_type": "execute_result"
    }
   ],
   "source": [
    "# create a data subset which only conain China as destination.then show the total brands in the dataset.\n",
    "cdf = df2.loc[df2['Destination'] == \"China\"]\n",
    "cdf.head()"
   ]
  },
  {
   "cell_type": "code",
   "execution_count": 8,
   "metadata": {},
   "outputs": [
    {
     "data": {
      "text/plain": [
       "68"
      ]
     },
     "execution_count": 8,
     "metadata": {},
     "output_type": "execute_result"
    }
   ],
   "source": [
    "# this part is only for testing the results\n",
    "# count the totla number of hotels which meets the condition: current category not equal to new category.\n",
    "counter = 0\n",
    "for i,r in df.iterrows():\n",
    "       if (r['Current Category'] != r['New Category']) & (r['Destination'] == 'China'):\n",
    "        counter+=1\n",
    "# There are total 68 hotels have category changed in China.\n",
    "counter"
   ]
  },
  {
   "cell_type": "markdown",
   "metadata": {},
   "source": [
    "My answer to the question 2:\n",
    "* There are 2185 hotels in this dataset.\n",
    "* The hotels are from 30 unique brands.\n",
    "* USA has the most number of hotels in this dataset which are 1545 hotels.\n",
    "* There are 68 hotels in China have category changed."
   ]
  },
  {
   "cell_type": "markdown",
   "metadata": {},
   "source": [
    "## Question 3\n",
    "- What's the percentage of hotels worldwide with category upgrade in 2020?"
   ]
  },
  {
   "cell_type": "code",
   "execution_count": 29,
   "metadata": {},
   "outputs": [
    {
     "name": "stdout",
     "output_type": "stream",
     "text": [
      "There are %77.16 of hotels worldwide with category upgrade in 2020.\n"
     ]
    }
   ],
   "source": [
    "# first count how many hotels have category increased worldwide.\n",
    "# create a new column shows total category increased.\n",
    "df['total_upcatchanged']=df['New Category'] - df['Current Category']\n",
    "\n",
    "# sliced the data which contains total category at least 1, and then count the total number of hotels.\n",
    "updf = df.loc[df['total_upcatchanged'] >= 1]\n",
    "\n",
    "# divided by its total number of hotels \n",
    "uppercen = round((updf.shape[0]/df.shape[0])*100,2)\n",
    "print('There are %{} of hotels worldwide with category upgrade in 2020.' .format(uppercen))"
   ]
  },
  {
   "cell_type": "markdown",
   "metadata": {},
   "source": [
    "My answer to the question 3:\n",
    "* There are %77.16 of hotels worldwide with category upgrade in 2020."
   ]
  },
  {
   "cell_type": "markdown",
   "metadata": {},
   "source": [
    "## Question 4\n",
    "- List hotels with category changes greater than 1 if any, such as changing from category 3 to 5 or from category 7 to 4\n",
    "- List all JW Marriott hotels in China that have a category upgrade"
   ]
  },
  {
   "cell_type": "code",
   "execution_count": 30,
   "metadata": {},
   "outputs": [
    {
     "name": "stdout",
     "output_type": "stream",
     "text": [
      "1    2184\n",
      "2       1\n",
      "Name: total_changed, dtype: int64\n"
     ]
    },
    {
     "data": {
      "text/html": [
       "<div>\n",
       "<style scoped>\n",
       "    .dataframe tbody tr th:only-of-type {\n",
       "        vertical-align: middle;\n",
       "    }\n",
       "\n",
       "    .dataframe tbody tr th {\n",
       "        vertical-align: top;\n",
       "    }\n",
       "\n",
       "    .dataframe thead th {\n",
       "        text-align: right;\n",
       "    }\n",
       "</style>\n",
       "<table border=\"1\" class=\"dataframe\">\n",
       "  <thead>\n",
       "    <tr style=\"text-align: right;\">\n",
       "      <th></th>\n",
       "      <th>Hotel</th>\n",
       "      <th>Brand</th>\n",
       "      <th>Destination</th>\n",
       "      <th>Current Category</th>\n",
       "      <th>Current Standard Price</th>\n",
       "      <th>New Category</th>\n",
       "      <th>New Standard Price</th>\n",
       "      <th>total_upcatchanged</th>\n",
       "      <th>total_catchanged</th>\n",
       "      <th>total_changed</th>\n",
       "    </tr>\n",
       "  </thead>\n",
       "  <tbody>\n",
       "    <tr>\n",
       "      <th>913</th>\n",
       "      <td>Four Points by Sheraton Bali, Ungasan</td>\n",
       "      <td>Four Points</td>\n",
       "      <td>Indonesia</td>\n",
       "      <td>4</td>\n",
       "      <td>25000</td>\n",
       "      <td>2</td>\n",
       "      <td>12500</td>\n",
       "      <td>-2</td>\n",
       "      <td>2</td>\n",
       "      <td>2</td>\n",
       "    </tr>\n",
       "  </tbody>\n",
       "</table>\n",
       "</div>"
      ],
      "text/plain": [
       "                                     Hotel        Brand Destination  \\\n",
       "913  Four Points by Sheraton Bali, Ungasan  Four Points   Indonesia   \n",
       "\n",
       "     Current Category  Current Standard Price  New Category  \\\n",
       "913                 4                   25000             2   \n",
       "\n",
       "     New Standard Price  total_upcatchanged  total_catchanged  total_changed  \n",
       "913               12500                  -2                 2              2  "
      ]
     },
     "execution_count": 30,
     "metadata": {},
     "output_type": "execute_result"
    }
   ],
   "source": [
    "# create a new column shows total category change.\n",
    "df['total_changed'] = abs(df['New Category'] - df['Current Category'])\n",
    "print(df['total_changed'].value_counts())\n",
    "\n",
    "# List hotels with category changes greater than 1 if any and subset it into another dataframe.\n",
    "morechangedf = df.loc[df['total_changed']>1]\n",
    "morechangedf.head()"
   ]
  },
  {
   "cell_type": "code",
   "execution_count": 23,
   "metadata": {},
   "outputs": [
    {
     "data": {
      "text/html": [
       "<div>\n",
       "<style scoped>\n",
       "    .dataframe tbody tr th:only-of-type {\n",
       "        vertical-align: middle;\n",
       "    }\n",
       "\n",
       "    .dataframe tbody tr th {\n",
       "        vertical-align: top;\n",
       "    }\n",
       "\n",
       "    .dataframe thead th {\n",
       "        text-align: right;\n",
       "    }\n",
       "</style>\n",
       "<table border=\"1\" class=\"dataframe\">\n",
       "  <thead>\n",
       "    <tr style=\"text-align: right;\">\n",
       "      <th></th>\n",
       "      <th>Hotel</th>\n",
       "      <th>Brand</th>\n",
       "      <th>Destination</th>\n",
       "      <th>Current Category</th>\n",
       "      <th>Current Standard Price</th>\n",
       "      <th>New Category</th>\n",
       "      <th>New Standard Price</th>\n",
       "      <th>total_upcatchanged</th>\n",
       "      <th>total_catchanged</th>\n",
       "    </tr>\n",
       "  </thead>\n",
       "  <tbody>\n",
       "    <tr>\n",
       "      <th>1074</th>\n",
       "      <td>JW Marriott Hotel Chengdu</td>\n",
       "      <td>JW Marriott</td>\n",
       "      <td>China</td>\n",
       "      <td>3</td>\n",
       "      <td>17500</td>\n",
       "      <td>4</td>\n",
       "      <td>25000</td>\n",
       "      <td>1</td>\n",
       "      <td>1</td>\n",
       "    </tr>\n",
       "    <tr>\n",
       "      <th>1078</th>\n",
       "      <td>JW Marriott Hotel Shenzhen</td>\n",
       "      <td>JW Marriott</td>\n",
       "      <td>China</td>\n",
       "      <td>3</td>\n",
       "      <td>17500</td>\n",
       "      <td>4</td>\n",
       "      <td>25000</td>\n",
       "      <td>1</td>\n",
       "      <td>1</td>\n",
       "    </tr>\n",
       "    <tr>\n",
       "      <th>1079</th>\n",
       "      <td>JW Marriott Hotel Shenzhen Bao'an</td>\n",
       "      <td>JW Marriott</td>\n",
       "      <td>China</td>\n",
       "      <td>3</td>\n",
       "      <td>17500</td>\n",
       "      <td>4</td>\n",
       "      <td>25000</td>\n",
       "      <td>1</td>\n",
       "      <td>1</td>\n",
       "    </tr>\n",
       "    <tr>\n",
       "      <th>1083</th>\n",
       "      <td>JW Marriott Hotel Zhengzhou</td>\n",
       "      <td>JW Marriott</td>\n",
       "      <td>China</td>\n",
       "      <td>2</td>\n",
       "      <td>12500</td>\n",
       "      <td>3</td>\n",
       "      <td>17500</td>\n",
       "      <td>1</td>\n",
       "      <td>1</td>\n",
       "    </tr>\n",
       "  </tbody>\n",
       "</table>\n",
       "</div>"
      ],
      "text/plain": [
       "                                  Hotel        Brand Destination  \\\n",
       "1074          JW Marriott Hotel Chengdu  JW Marriott       China   \n",
       "1078         JW Marriott Hotel Shenzhen  JW Marriott       China   \n",
       "1079  JW Marriott Hotel Shenzhen Bao'an  JW Marriott       China   \n",
       "1083        JW Marriott Hotel Zhengzhou  JW Marriott       China   \n",
       "\n",
       "      Current Category  Current Standard Price  New Category  \\\n",
       "1074                 3                   17500             4   \n",
       "1078                 3                   17500             4   \n",
       "1079                 3                   17500             4   \n",
       "1083                 2                   12500             3   \n",
       "\n",
       "      New Standard Price  total_upcatchanged  total_catchanged  \n",
       "1074               25000                   1                 1  \n",
       "1078               25000                   1                 1  \n",
       "1079               25000                   1                 1  \n",
       "1083               17500                   1                 1  "
      ]
     },
     "execution_count": 23,
     "metadata": {},
     "output_type": "execute_result"
    }
   ],
   "source": [
    "a = df.loc[(df['Brand']=='JW Marriott') & (df['Destination']=='China') & (df['total_upcatchanged'] >= 1)]\n",
    "a"
   ]
  },
  {
   "cell_type": "markdown",
   "metadata": {},
   "source": [
    "My answer to the question 4:\n",
    "* There is only 1 hotel with category changes greater than 1 which is hotel Four Points by Sheraton Bali, Ungasan. \n",
    "* All JW Marriott hotels in China that have a category upgrade is listed above."
   ]
  },
  {
   "cell_type": "markdown",
   "metadata": {},
   "source": [
    "## Question 5\n",
    "Assume you are in Feburary 2020 and the category changes will take effect on March 4, 2020. You are planning your trip to Florence, Italy and Hong Kong, China in April. You only stay in category 8 hotel (existing category 8 or future category 8) and want to optimize your point spending. Based on the data, which hotel you should book? when should you book your hotels for Florence and Hong Kong? Why?"
   ]
  },
  {
   "cell_type": "code",
   "execution_count": 36,
   "metadata": {},
   "outputs": [
    {
     "data": {
      "text/html": [
       "<div>\n",
       "<style scoped>\n",
       "    .dataframe tbody tr th:only-of-type {\n",
       "        vertical-align: middle;\n",
       "    }\n",
       "\n",
       "    .dataframe tbody tr th {\n",
       "        vertical-align: top;\n",
       "    }\n",
       "\n",
       "    .dataframe thead th {\n",
       "        text-align: right;\n",
       "    }\n",
       "</style>\n",
       "<table border=\"1\" class=\"dataframe\">\n",
       "  <thead>\n",
       "    <tr style=\"text-align: right;\">\n",
       "      <th></th>\n",
       "      <th>Hotel</th>\n",
       "      <th>Brand</th>\n",
       "      <th>Destination</th>\n",
       "      <th>Current Category</th>\n",
       "      <th>Current Standard Price</th>\n",
       "      <th>New Category</th>\n",
       "      <th>New Standard Price</th>\n",
       "      <th>total_upcatchanged</th>\n",
       "      <th>total_catchanged</th>\n",
       "      <th>total_changed</th>\n",
       "    </tr>\n",
       "  </thead>\n",
       "  <tbody>\n",
       "    <tr>\n",
       "      <th>145</th>\n",
       "      <td>Cervo Hotel, Costa Smeralda Resort</td>\n",
       "      <td>Sheraton</td>\n",
       "      <td>Italy</td>\n",
       "      <td>7</td>\n",
       "      <td>60000</td>\n",
       "      <td>8</td>\n",
       "      <td>85000</td>\n",
       "      <td>1</td>\n",
       "      <td>1</td>\n",
       "      <td>1</td>\n",
       "    </tr>\n",
       "    <tr>\n",
       "      <th>519</th>\n",
       "      <td>Cristallo, a Luxury Collection Resort &amp; Spa, C...</td>\n",
       "      <td>Luxury Collection</td>\n",
       "      <td>Italy</td>\n",
       "      <td>8</td>\n",
       "      <td>85000</td>\n",
       "      <td>7</td>\n",
       "      <td>60000</td>\n",
       "      <td>-1</td>\n",
       "      <td>1</td>\n",
       "      <td>1</td>\n",
       "    </tr>\n",
       "    <tr>\n",
       "      <th>1968</th>\n",
       "      <td>The Westin Excelsior, Florence</td>\n",
       "      <td>Westin</td>\n",
       "      <td>Italy</td>\n",
       "      <td>7</td>\n",
       "      <td>60000</td>\n",
       "      <td>8</td>\n",
       "      <td>85000</td>\n",
       "      <td>1</td>\n",
       "      <td>1</td>\n",
       "      <td>1</td>\n",
       "    </tr>\n",
       "  </tbody>\n",
       "</table>\n",
       "</div>"
      ],
      "text/plain": [
       "                                                  Hotel              Brand  \\\n",
       "145                  Cervo Hotel, Costa Smeralda Resort           Sheraton   \n",
       "519   Cristallo, a Luxury Collection Resort & Spa, C...  Luxury Collection   \n",
       "1968                     The Westin Excelsior, Florence             Westin   \n",
       "\n",
       "     Destination  Current Category  Current Standard Price  New Category  \\\n",
       "145        Italy                 7                   60000             8   \n",
       "519        Italy                 8                   85000             7   \n",
       "1968       Italy                 7                   60000             8   \n",
       "\n",
       "      New Standard Price  total_upcatchanged  total_catchanged  total_changed  \n",
       "145                85000                   1                 1              1  \n",
       "519                60000                  -1                 1              1  \n",
       "1968               85000                   1                 1              1  "
      ]
     },
     "execution_count": 36,
     "metadata": {},
     "output_type": "execute_result"
    }
   ],
   "source": [
    "# get all the hotels which located in Italy and have or will have category level 8.\n",
    "b = df.loc[((df['Destination']=='Italy') & (df['Current Category']==8)) | ((df['Destination']=='Italy') & (df['New Category']==8))]\n",
    "b"
   ]
  },
  {
   "cell_type": "code",
   "execution_count": 39,
   "metadata": {},
   "outputs": [
    {
     "data": {
      "text/html": [
       "<div>\n",
       "<style scoped>\n",
       "    .dataframe tbody tr th:only-of-type {\n",
       "        vertical-align: middle;\n",
       "    }\n",
       "\n",
       "    .dataframe tbody tr th {\n",
       "        vertical-align: top;\n",
       "    }\n",
       "\n",
       "    .dataframe thead th {\n",
       "        text-align: right;\n",
       "    }\n",
       "</style>\n",
       "<table border=\"1\" class=\"dataframe\">\n",
       "  <thead>\n",
       "    <tr style=\"text-align: right;\">\n",
       "      <th></th>\n",
       "      <th>Hotel</th>\n",
       "      <th>Brand</th>\n",
       "      <th>Destination</th>\n",
       "      <th>Current Category</th>\n",
       "      <th>Current Standard Price</th>\n",
       "      <th>New Category</th>\n",
       "      <th>New Standard Price</th>\n",
       "      <th>total_upcatchanged</th>\n",
       "      <th>total_catchanged</th>\n",
       "      <th>total_changed</th>\n",
       "    </tr>\n",
       "  </thead>\n",
       "  <tbody>\n",
       "  </tbody>\n",
       "</table>\n",
       "</div>"
      ],
      "text/plain": [
       "Empty DataFrame\n",
       "Columns: [Hotel, Brand, Destination, Current Category, Current Standard Price, New Category, New Standard Price, total_upcatchanged, total_catchanged, total_changed]\n",
       "Index: []"
      ]
     },
     "execution_count": 39,
     "metadata": {},
     "output_type": "execute_result"
    }
   ],
   "source": [
    "# get all the hotels which located in Hong Kong and have or will have category level 8.\n",
    "c = df.loc[((df['Destination']=='Hong Kong') & (df['Current Category']==8)) | ((df['Destination']=='Hong Kong') & (df['New Category']==8))]\n",
    "c"
   ]
  },
  {
   "cell_type": "markdown",
   "metadata": {},
   "source": [
    "My answer to the question 5:\n",
    "* I would like to book Cervo Hotel, Costa Smeralda Resort and The Westin Excelsior, Florence before March 4, 2020. This is because these two hotels are going to upgrade to category 8 on March. However,the price for these two hotels are still cheap right now, which are 60000, and it will increase to 85000 once it upgrade to category 8. So I would like to book these two hotels before March 4. On the other side, I would not book any hotels in Hong Kong since there are no any category 8 hotel in this place. "
   ]
  },
  {
   "cell_type": "code",
   "execution_count": null,
   "metadata": {},
   "outputs": [],
   "source": []
  }
 ],
 "metadata": {
  "kernelspec": {
   "display_name": "Python 3",
   "language": "python",
   "name": "python3"
  },
  "language_info": {
   "codemirror_mode": {
    "name": "ipython",
    "version": 3
   },
   "file_extension": ".py",
   "mimetype": "text/x-python",
   "name": "python",
   "nbconvert_exporter": "python",
   "pygments_lexer": "ipython3",
   "version": "3.7.2"
  }
 },
 "nbformat": 4,
 "nbformat_minor": 4
}
