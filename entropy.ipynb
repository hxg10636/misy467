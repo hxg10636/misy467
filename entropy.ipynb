{
 "cells": [
  {
   "cell_type": "code",
   "execution_count": 6,
   "metadata": {},
   "outputs": [],
   "source": [
    "import numpy as np"
   ]
  },
  {
   "cell_type": "code",
   "execution_count": 9,
   "metadata": {},
   "outputs": [
    {
     "data": {
      "text/plain": [
       "0.9402859586706311"
      ]
     },
     "execution_count": 9,
     "metadata": {},
     "output_type": "execute_result"
    }
   ],
   "source": [
    "# Step1. Calculate entropu of the target\n",
    "E_playgolf = -((9/14) * np.log2(9/14)) -((5/14) * np.log2(5/14))\n",
    "E_playgolf"
   ]
  },
  {
   "cell_type": "markdown",
   "metadata": {},
   "source": [
    "|   \t|   \t| Play Golf \t|    \t|   \t|\n",
    "|---\t|---\t|:---------:\t|----\t|---\t|\n",
    "|   \t|   \t| Yes       \t| No \t|   \t|\n",
    "|   \t|   \t| 9         \t| 5  \t|   \t|"
   ]
  },
  {
   "cell_type": "code",
   "execution_count": 23,
   "metadata": {},
   "outputs": [
    {
     "data": {
      "text/plain": [
       "0.6935361388961918"
      ]
     },
     "execution_count": 23,
     "metadata": {},
     "output_type": "execute_result"
    }
   ],
   "source": [
    "# Step2. Calculate the entropy for each branch, then use the total entropy minus the entropy for each branch\n",
    "# to get the Information Gain. DT will spilit on the node with the largest informatiopn gain.\n",
    "E_outlook_sunny = (5/14)*(-((3/5) * np.log2(3/5))-((2/5) * np.log2(2/5)))\n",
    "E_outlook_overcast = (4/14)*0.0\n",
    "E_outlook_rainy = (5/14)*(-((2/5) * np.log2(2/5))-((3/5) * np.log2(3/5)))\n",
    "E_outlook = E_outlook_sunny + E_outlook_overcast + E_outlook_rainy\n",
    "E_outlook"
   ]
  },
  {
   "cell_type": "code",
   "execution_count": 24,
   "metadata": {},
   "outputs": [
    {
     "data": {
      "text/plain": [
       "0.24674981977443933"
      ]
     },
     "execution_count": 24,
     "metadata": {},
     "output_type": "execute_result"
    }
   ],
   "source": [
    "Outlook_information_gain = E_playgolf - E_outlook\n",
    "Outlook_information_gain"
   ]
  },
  {
   "cell_type": "markdown",
   "metadata": {},
   "source": [
    "|         \t|          \t| Play Golf \t|    \t|    \t|\n",
    "|---------\t|----------\t|:---------:\t|----\t|----\t|\n",
    "|         \t|          \t| Yes       \t| No \t|    \t|\n",
    "|         \t| Sunny    \t| 3         \t| 2  \t| 5  \t|\n",
    "| Outlook \t| Overcast \t| 4         \t| 0  \t| 4  \t|\n",
    "|         \t| Rainy    \t| 2         \t| 3  \t| 5  \t|\n",
    "|         \t|          \t|           \t|    \t| 14 \t|"
   ]
  },
  {
   "cell_type": "code",
   "execution_count": 27,
   "metadata": {},
   "outputs": [
    {
     "name": "stdout",
     "output_type": "stream",
     "text": [
      "0.0\n",
      "0.0\n"
     ]
    }
   ],
   "source": [
    "# step3. According to the calculation, we choose outlook as our decision node since it has the largest information\n",
    "# gain. Then we divide the dataset by its branches and repeat the same process.\n",
    "\n",
    "# according to the eyeballing, we can easy find that the entropy for windy would be 0.\n",
    "# A branch with entropy of 0 is a leaf node.\n",
    "E_windy_true = (2/5)*0.0\n",
    "E_windy_false= (3/5)*0.0\n",
    "print(E_windy_true)\n",
    "print(E_windy_false)"
   ]
  },
  {
   "cell_type": "markdown",
   "metadata": {},
   "source": [
    "|       \t|       \t| Play Golf \t|    \t|   \t|\n",
    "|-------\t|-------\t|:---------:\t|----\t|---\t|\n",
    "|       \t|       \t| Yes       \t| No \t|   \t|\n",
    "| Windy \t| True  \t| 0         \t| 2  \t|   \t|\n",
    "|       \t| False \t| 3         \t| 0  \t|   \t|"
   ]
  },
  {
   "cell_type": "code",
   "execution_count": 28,
   "metadata": {},
   "outputs": [
    {
     "data": {
      "text/plain": [
       "0.0"
      ]
     },
     "execution_count": 28,
     "metadata": {},
     "output_type": "execute_result"
    }
   ],
   "source": [
    "# step4. Overcast is a leaf node.\n",
    "E_overcast = (4/4)*0.0\n",
    "E_overcast"
   ]
  },
  {
   "cell_type": "markdown",
   "metadata": {
    "scrolled": true
   },
   "source": [
    "|   \t|          \t| Play Golf \t|    \t|   \t|\n",
    "|---\t|----------\t|:---------:\t|----\t|---\t|\n",
    "|   \t|          \t| Yes       \t| No \t|   \t|\n",
    "|   \t| Overcast \t| 4         \t| 0  \t|   \t|"
   ]
  },
  {
   "cell_type": "code",
   "execution_count": 29,
   "metadata": {},
   "outputs": [
    {
     "name": "stdout",
     "output_type": "stream",
     "text": [
      "0.0\n",
      "0.0\n"
     ]
    }
   ],
   "source": [
    "# step5. According to the calculation, humidity would be the leaf node for rainy.\n",
    "E_humidity_high = (3/5)*0.0\n",
    "E_humidity_normal= (2/5)*0.0\n",
    "print(E_humidity_high)\n",
    "print(E_humidity_normal)"
   ]
  },
  {
   "cell_type": "markdown",
   "metadata": {},
   "source": [
    "|          \t|        \t| Play Golf \t|    \t|   \t|\n",
    "|----------\t|--------\t|:---------:\t|----\t|---\t|\n",
    "|          \t|        \t| Yes       \t| No \t|   \t|\n",
    "| Humidity \t| High   \t| 0         \t| 3  \t|   \t|\n",
    "|          \t| Normal \t| 2         \t| 0  \t|   \t|"
   ]
  },
  {
   "cell_type": "code",
   "execution_count": null,
   "metadata": {},
   "outputs": [],
   "source": []
  }
 ],
 "metadata": {
  "kernelspec": {
   "display_name": "Python 3",
   "language": "python",
   "name": "python3"
  },
  "language_info": {
   "codemirror_mode": {
    "name": "ipython",
    "version": 3
   },
   "file_extension": ".py",
   "mimetype": "text/x-python",
   "name": "python",
   "nbconvert_exporter": "python",
   "pygments_lexer": "ipython3",
   "version": "3.7.7"
  }
 },
 "nbformat": 4,
 "nbformat_minor": 4
}
