{
 "cells": [
  {
   "cell_type": "markdown",
   "metadata": {},
   "source": [
    "# Model Evaluation\n",
    "You need to use cross validation to evaluate the performance of three different decision tree models\n",
    "\n"
   ]
  },
  {
   "cell_type": "code",
   "execution_count": 12,
   "metadata": {},
   "outputs": [],
   "source": [
    "# load packages\n",
    "import pandas as pd\n",
    "import numpy as np\n",
    "import matplotlib\n",
    "import matplotlib.pyplot as plt"
   ]
  },
  {
   "cell_type": "code",
   "execution_count": 2,
   "metadata": {},
   "outputs": [
    {
     "name": "stdout",
     "output_type": "stream",
     "text": [
      "<class 'pandas.core.frame.DataFrame'>\n",
      "RangeIndex: 3333 entries, 0 to 3332\n",
      "Data columns (total 7 columns):\n",
      " #   Column                  Non-Null Count  Dtype  \n",
      "---  ------                  --------------  -----  \n",
      " 0   state                   3333 non-null   object \n",
      " 1   account length          3333 non-null   int64  \n",
      " 2   international plan      3333 non-null   object \n",
      " 3   total day minutes       3333 non-null   float64\n",
      " 4   total day calls         3333 non-null   int64  \n",
      " 5   customer service calls  3333 non-null   int64  \n",
      " 6   churn                   3333 non-null   bool   \n",
      "dtypes: bool(1), float64(1), int64(3), object(2)\n",
      "memory usage: 159.6+ KB\n"
     ]
    }
   ],
   "source": [
    "# load data\n",
    "churn = pd.read_csv('customer-churn-simple.csv')\n",
    "churn.info()"
   ]
  },
  {
   "cell_type": "code",
   "execution_count": 3,
   "metadata": {},
   "outputs": [],
   "source": [
    "# calculate the base line accuracy if predict all customers loyal\n",
    "df = churn.copy()"
   ]
  },
  {
   "cell_type": "code",
   "execution_count": 5,
   "metadata": {},
   "outputs": [
    {
     "name": "stdout",
     "output_type": "stream",
     "text": [
      "False    2850\n",
      "True      483\n",
      "Name: churn, dtype: int64\n",
      "the customer loyal rate is 85.5%\n"
     ]
    }
   ],
   "source": [
    "\n",
    "c = df['churn'].value_counts()\n",
    "print(c)\n",
    "print(f'the customer loyal rate is {c[0]/c.sum():.1%}')"
   ]
  },
  {
   "cell_type": "markdown",
   "metadata": {},
   "source": [
    "## Data Preparation"
   ]
  },
  {
   "cell_type": "code",
   "execution_count": 6,
   "metadata": {},
   "outputs": [],
   "source": [
    "# we only choose three numerical features with no data issues to train the model\n",
    "# account length, total day minutes, customer service calls\n",
    "X = df[['account length','total day minutes','customer service calls']]\n",
    "y = df['churn']"
   ]
  },
  {
   "cell_type": "code",
   "execution_count": 7,
   "metadata": {},
   "outputs": [],
   "source": [
    "# Split the data into a training set and a test set. \n",
    "# You need to use 30% of the data set as the test set.\n",
    "from sklearn.model_selection import train_test_split\n",
    "X_train, X_test, y_train, y_test = train_test_split(X, y, test_size=0.3, random_state=42)"
   ]
  },
  {
   "cell_type": "code",
   "execution_count": 8,
   "metadata": {},
   "outputs": [
    {
     "name": "stdout",
     "output_type": "stream",
     "text": [
      "(2333, 3)\n",
      "(1000, 3)\n"
     ]
    }
   ],
   "source": [
    "print(X_train.shape)\n",
    "print(X_test.shape)"
   ]
  },
  {
   "cell_type": "markdown",
   "metadata": {},
   "source": [
    "## Model Evaluation"
   ]
  },
  {
   "cell_type": "code",
   "execution_count": 9,
   "metadata": {},
   "outputs": [],
   "source": [
    "# let's build three decision trees with different model parameters\n",
    "# tree 1: criterion='entropy', max_depth=3\n",
    "# tree 2: criterion='entropy', max_depth=6\n",
    "# tree 3: criterion='gini', max_depth=6\n",
    "from sklearn.tree import DecisionTreeClassifier\n",
    "\n",
    "tree_clf1 = DecisionTreeClassifier(criterion='entropy', max_depth=3)\n",
    "tree_clf2 = DecisionTreeClassifier(criterion='entropy', max_depth=6)\n",
    "tree_clf3 = DecisionTreeClassifier(criterion='gini', max_depth=6)"
   ]
  },
  {
   "cell_type": "code",
   "execution_count": 11,
   "metadata": {},
   "outputs": [
    {
     "name": "stdout",
     "output_type": "stream",
     "text": [
      "Average Accuracy Scores for each model:\n",
      "Tree 1 Average Accuracy Score: 0.8902828216132935\n",
      "Tree 2 Average Accuracy Score: 0.8808279226734161\n",
      "Tree 3 Average Accuracy Score: 0.8808334250394336\n",
      "Average Precision Scores for each model:\n",
      "Tree 1 Average Precision Score: 0.7850227713463008\n",
      "Tree 2 Average Precision Score: 0.703246214569744\n",
      "Tree 3 Average Precision Score: 0.6704475962633858\n",
      "Average Recall Scores for each model:\n",
      "Tree 1 Average Recall Score: 0.34411764705882353\n",
      "Tree 2 Average Recall Score: 0.3382352941176471\n",
      "Tree 3 Average Recall Score: 0.3588235294117647\n"
     ]
    }
   ],
   "source": [
    "# calculate accuracy, precision, recall using 10-fold cross validation\n",
    "# print out the scores for eacch tree as follows\n",
    "from sklearn.model_selection import cross_val_score\n",
    "\n",
    "# average accuracy score\n",
    "tree_clf1_scores_accu = cross_val_score(tree_clf1, X_train, y_train, scoring=\"accuracy\", cv=10)\n",
    "tree_clf2_scores_accu = cross_val_score(tree_clf2, X_train, y_train, scoring=\"accuracy\", cv=10)\n",
    "tree_clf3_scores_accu = cross_val_score(tree_clf3, X_train, y_train, scoring=\"accuracy\", cv=10)\n",
    "\n",
    "print('Average Accuracy Scores for each model:')\n",
    "print(f'Tree 1 Average Accuracy Score: {tree_clf1_scores_accu.mean()}')\n",
    "print(f'Tree 2 Average Accuracy Score: {tree_clf2_scores_accu.mean()}')\n",
    "print(f'Tree 3 Average Accuracy Score: {tree_clf3_scores_accu.mean()}')\n",
    "\n",
    "# average precision score\n",
    "tree_clf1_scores_prec = cross_val_score(tree_clf1, X_train, y_train, scoring=\"precision\", cv=10)\n",
    "tree_clf2_scores_prec = cross_val_score(tree_clf2, X_train, y_train, scoring=\"precision\", cv=10)\n",
    "tree_clf3_scores_prec = cross_val_score(tree_clf3, X_train, y_train, scoring=\"precision\", cv=10)\n",
    "\n",
    "print('Average Precision Scores for each model:')\n",
    "print(f'Tree 1 Average Precision Score: {tree_clf1_scores_prec.mean()}')\n",
    "print(f'Tree 2 Average Precision Score: {tree_clf2_scores_prec.mean()}')\n",
    "print(f'Tree 3 Average Precision Score: {tree_clf3_scores_prec.mean()}')\n",
    "\n",
    "# average recall score\n",
    "tree_clf1_scores_rec = cross_val_score(tree_clf1, X_train, y_train, scoring=\"recall\", cv=10)\n",
    "tree_clf2_scores_rec = cross_val_score(tree_clf2, X_train, y_train, scoring=\"recall\", cv=10)\n",
    "tree_clf3_scores_rec = cross_val_score(tree_clf3, X_train, y_train, scoring=\"recall\", cv=10)\n",
    "\n",
    "print('Average Recall Scores for each model:')\n",
    "print(f'Tree 1 Average Recall Score: {tree_clf1_scores_rec.mean()}')\n",
    "print(f'Tree 2 Average Recall Score: {tree_clf2_scores_rec.mean()}')\n",
    "print(f'Tree 3 Average Recall Score: {tree_clf3_scores_rec.mean()}')"
   ]
  },
  {
   "cell_type": "code",
   "execution_count": 20,
   "metadata": {},
   "outputs": [
    {
     "name": "stdout",
     "output_type": "stream",
     "text": [
      "tree 1 scores:\n",
      "Average Acuracy Score: 0.8902828216132935\n",
      "Average Precision Score: 0.8902828216132935\n",
      "Average Recall Score: 0.34411764705882353\n",
      "tree 2 scores:\n",
      "Average Acuracy Score: 0.8804005722460657\n",
      "Average Precision Score: 0.8804005722460657\n",
      "Average Recall Score: 0.3382352941176471\n",
      "tree 3 scores:\n",
      "Average Acuracy Score: 0.8808334250394336\n",
      "Average Precision Score: 0.8808334250394336\n",
      "Average Recall Score: 0.3588235294117647\n"
     ]
    },
    {
     "data": {
      "image/png": "[encoded data removed]",
      "text/plain": [
       "<Figure size 576x396 with 1 Axes>"
      ]
     },
     "metadata": {},
     "output_type": "display_data"
    }
   ],
   "source": [
    "# Visualize via a grouped bar chart as shown below\n",
    "# https://matplotlib.org/3.2.1/gallery/lines_bars_and_markers/barchart.html#sphx-glr-gallery-lines-bars-and-markers-barchart-py\n",
    "# include all metrics in the scoring\n",
    "from sklearn.model_selection import cross_validate\n",
    "from sklearn.metrics import make_scorer, accuracy_score, precision_score, recall_score, f1_score\n",
    "\n",
    "score_params = {\n",
    "    'accuracy' : make_scorer(accuracy_score), \n",
    "    'precision' : make_scorer(precision_score),\n",
    "    'recall' : make_scorer(recall_score),\n",
    "    }\n",
    "    \n",
    "def eval_model(model, train, test, score_params, fold):\n",
    "    model_scores = cross_validate(model, train, test, scoring=score_params, cv=fold)\n",
    "    a_mean = model_scores['test_accuracy'].mean() # Average Acuracy Score \n",
    "    p_mean = model_scores['test_precision'].mean() # Average Precision Score\n",
    "    r_mean = model_scores['test_recall'].mean() # Average Recall Score\n",
    "    print(f'Average Acuracy Score: {a_mean}')\n",
    "    print(f'Average Precision Score: {a_mean}')\n",
    "    print(f'Average Recall Score: {r_mean}')\n",
    "    return [a_mean, p_mean, r_mean]\n",
    "    return [a_mean, p_mean, r_mean]\n",
    "\n",
    "print(\"tree 1 scores:\")\n",
    "tree1_scores = eval_model(tree_clf1, X_train, y_train, score_params, 10)\n",
    "\n",
    "print(\"tree 2 scores:\")\n",
    "tree2_scores = eval_model(tree_clf2, X_train, y_train, score_params, 10)\n",
    "\n",
    "print(\"tree 3 scores:\")\n",
    "tree3_scores = eval_model(tree_clf3, X_train, y_train, score_params, 10)\n",
    "\n",
    "# create the histogram\n",
    "plt.style.use('seaborn') # use seaborn style in this plot.\n",
    "labels = ['Accuracy','Precision','Recall']\n",
    "label_loc = np.arange(len(labels)) # the label locations\n",
    "bar_width = 0.2 # the width of the bars\n",
    "\n",
    "fig, ax = plt.subplots()\n",
    "rects1 = ax.bar(label_loc - bar_width, tree1_scores, bar_width, label='Tree1', alpha=0.8)\n",
    "rects2 = ax.bar(label_loc, tree2_scores, bar_width, label='Tree2', alpha=0.8)\n",
    "rects3 = ax.bar(label_loc + bar_width, tree3_scores, bar_width, label='Tree3', alpha=0.8)\n",
    "\n",
    "ax.set_ylabel('Scores')\n",
    "ax.set_title('Model Evaluation Result')\n",
    "ax.set_xticks(label_loc)\n",
    "ax.set_xticklabels(labels)\n",
    "ax.legend()\n",
    "\n",
    "plt.show()"
   ]
  },
  {
   "cell_type": "markdown",
   "metadata": {},
   "source": [
    "## Final Model and Prediction"
   ]
  },
  {
   "cell_type": "code",
   "execution_count": 22,
   "metadata": {},
   "outputs": [
    {
     "name": "stdout",
     "output_type": "stream",
     "text": [
      "Accuracy Score : 0.884\n",
      "Precision Score : 0.7547169811320755\n",
      "Recall Score : 0.27972027972027974\n",
      "F1 Score : 0.40816326530612246\n"
     ]
    }
   ],
   "source": [
    "# choose the best model\n",
    "# From the cross validation results abover, I know that tree 1 is the best among three models.\n",
    "# retrain the final model using ALL training data\n",
    "tree_clf1.fit(X_train, y_train)\n",
    "\n",
    "# get the prediction results from the testing set\n",
    "y_pred = tree_clf1.predict(X_test)\n",
    "\n",
    "# calculate accuracy, precision, recall, f1-score\n",
    "# Note: y_test is the ground truth for the tesing set\n",
    "# we have similiar score for the testing set as the cross validation score - good\n",
    "from sklearn.metrics import accuracy_score, recall_score, precision_score, f1_score\n",
    "\n",
    "print(f'Accuracy Score : {accuracy_score(y_test,y_pred)}')\n",
    "print(f'Precision Score : {precision_score(y_test,y_pred)}')\n",
    "print(f'Recall Score : {recall_score(y_test,y_pred)}')\n",
    "print(f'F1 Score : {f1_score(y_test,y_pred)}')"
   ]
  },
  {
   "cell_type": "code",
   "execution_count": 26,
   "metadata": {},
   "outputs": [
    {
     "name": "stdout",
     "output_type": "stream",
     "text": [
      "Confusion Matrix: \n",
      " [[ 40 103]\n",
      " [ 13 844]]\n"
     ]
    },
    {
     "data": {
      "image/png": "[encoded data removed]",
      "text/plain": [
       "<Figure size 640x480 with 2 Axes>"
      ]
     },
     "metadata": {},
     "output_type": "display_data"
    }
   ],
   "source": [
    "# plot the confusion matrix as show below\n",
    "# you have to use the display labels with correct locations\n",
    "plt.style.use('default') \n",
    "from sklearn.metrics import plot_confusion_matrix\n",
    "class_names = ['churn', 'Loyal']\n",
    "disp = plot_confusion_matrix(tree_clf1, X_test, y_test, labels=[1, 0], display_labels=class_names)\n",
    "# disp.confusion_matrix returns confusion matrix as an array\n",
    "print(f'Confusion Matrix: \\n {disp.confusion_matrix}' )"
   ]
  },
  {
   "cell_type": "code",
   "execution_count": 36,
   "metadata": {},
   "outputs": [
    {
     "name": "stdout",
     "output_type": "stream",
     "text": [
      "0.7547169811320755\n"
     ]
    }
   ],
   "source": [
    "# manually calculate the precision based on the confusion matrix above and check with the generated score\n",
    "precision = disp.confusion_matrix[0,0]/(disp.confusion_matrix[0,0] + disp.confusion_matrix[1,0])\n",
    "print(precision)"
   ]
  },
  {
   "cell_type": "code",
   "execution_count": null,
   "metadata": {},
   "outputs": [],
   "source": []
  }
 ],
 "metadata": {
  "kernelspec": {
   "display_name": "Python 3",
   "language": "python",
   "name": "python3"
  },
  "language_info": {
   "codemirror_mode": {
    "name": "ipython",
    "version": 3
   },
   "file_extension": ".py",
   "mimetype": "text/x-python",
   "name": "python",
   "nbconvert_exporter": "python",
   "pygments_lexer": "ipython3",
   "version": "3.8.2"
  }
 },
 "nbformat": 4,
 "nbformat_minor": 4
}
